{
  "nbformat": 4,
  "nbformat_minor": 0,
  "metadata": {
    "colab": {
      "name": "AML_fastai.ipynb",
      "provenance": [],
      "collapsed_sections": [],
      "include_colab_link": true
    },
    "kernelspec": {
      "name": "python3",
      "display_name": "Python 3"
    },
    "language_info": {
      "name": "python"
    },
    "accelerator": "GPU"
  },
  "cells": [
    {
      "cell_type": "markdown",
      "metadata": {
        "id": "view-in-github",
        "colab_type": "text"
      },
      "source": [
        "<a href=\"https://colab.research.google.com/github/rmartimarly/teaching_misc/blob/main/AML_fastai.ipynb\" target=\"_parent\"><img src=\"https://colab.research.google.com/assets/colab-badge.svg\" alt=\"Open In Colab\"/></a>"
      ]
    },
    {
      "cell_type": "code",
      "execution_count": 1,
      "metadata": {
        "id": "jJdRT3tqInjt",
        "colab": {
          "base_uri": "https://localhost:8080/"
        },
        "outputId": "66b0ce47-d5f5-46d8-b80c-da0766037c39"
      },
      "outputs": [
        {
          "output_type": "stream",
          "name": "stdout",
          "text": [
            "Requirement already satisfied: fastai in /usr/local/lib/python3.7/dist-packages (1.0.61)\n",
            "Collecting fastai\n",
            "  Downloading fastai-2.5.3-py3-none-any.whl (189 kB)\n",
            "\u001b[K     |████████████████████████████████| 189 kB 5.4 MB/s \n",
            "\u001b[?25hRequirement already satisfied: requests in /usr/local/lib/python3.7/dist-packages (from fastai) (2.23.0)\n",
            "Requirement already satisfied: matplotlib in /usr/local/lib/python3.7/dist-packages (from fastai) (3.2.2)\n",
            "Requirement already satisfied: torch<1.11,>=1.7.0 in /usr/local/lib/python3.7/dist-packages (from fastai) (1.10.0+cu111)\n",
            "Requirement already satisfied: scikit-learn in /usr/local/lib/python3.7/dist-packages (from fastai) (1.0.2)\n",
            "Requirement already satisfied: spacy<4 in /usr/local/lib/python3.7/dist-packages (from fastai) (2.2.4)\n",
            "Requirement already satisfied: pandas in /usr/local/lib/python3.7/dist-packages (from fastai) (1.3.5)\n",
            "Requirement already satisfied: torchvision>=0.8.2 in /usr/local/lib/python3.7/dist-packages (from fastai) (0.11.1+cu111)\n",
            "Requirement already satisfied: scipy in /usr/local/lib/python3.7/dist-packages (from fastai) (1.4.1)\n",
            "Requirement already satisfied: pip in /usr/local/lib/python3.7/dist-packages (from fastai) (21.1.3)\n",
            "Requirement already satisfied: pyyaml in /usr/local/lib/python3.7/dist-packages (from fastai) (3.13)\n",
            "Collecting fastcore<1.4,>=1.3.22\n",
            "  Downloading fastcore-1.3.29-py3-none-any.whl (55 kB)\n",
            "\u001b[K     |████████████████████████████████| 55 kB 2.4 MB/s \n",
            "\u001b[?25hRequirement already satisfied: packaging in /usr/local/lib/python3.7/dist-packages (from fastai) (21.3)\n",
            "Requirement already satisfied: fastprogress>=0.2.4 in /usr/local/lib/python3.7/dist-packages (from fastai) (1.0.2)\n",
            "Collecting fastdownload<2,>=0.0.5\n",
            "  Downloading fastdownload-0.0.5-py3-none-any.whl (13 kB)\n",
            "Requirement already satisfied: pillow>6.0.0 in /usr/local/lib/python3.7/dist-packages (from fastai) (7.1.2)\n",
            "Requirement already satisfied: plac<1.2.0,>=0.9.6 in /usr/local/lib/python3.7/dist-packages (from spacy<4->fastai) (1.1.3)\n",
            "Requirement already satisfied: wasabi<1.1.0,>=0.4.0 in /usr/local/lib/python3.7/dist-packages (from spacy<4->fastai) (0.9.0)\n",
            "Requirement already satisfied: cymem<2.1.0,>=2.0.2 in /usr/local/lib/python3.7/dist-packages (from spacy<4->fastai) (2.0.6)\n",
            "Requirement already satisfied: setuptools in /usr/local/lib/python3.7/dist-packages (from spacy<4->fastai) (57.4.0)\n",
            "Requirement already satisfied: preshed<3.1.0,>=3.0.2 in /usr/local/lib/python3.7/dist-packages (from spacy<4->fastai) (3.0.6)\n",
            "Requirement already satisfied: catalogue<1.1.0,>=0.0.7 in /usr/local/lib/python3.7/dist-packages (from spacy<4->fastai) (1.0.0)\n",
            "Requirement already satisfied: srsly<1.1.0,>=1.0.2 in /usr/local/lib/python3.7/dist-packages (from spacy<4->fastai) (1.0.5)\n",
            "Requirement already satisfied: numpy>=1.15.0 in /usr/local/lib/python3.7/dist-packages (from spacy<4->fastai) (1.21.5)\n",
            "Requirement already satisfied: blis<0.5.0,>=0.4.0 in /usr/local/lib/python3.7/dist-packages (from spacy<4->fastai) (0.4.1)\n",
            "Requirement already satisfied: murmurhash<1.1.0,>=0.28.0 in /usr/local/lib/python3.7/dist-packages (from spacy<4->fastai) (1.0.6)\n",
            "Requirement already satisfied: tqdm<5.0.0,>=4.38.0 in /usr/local/lib/python3.7/dist-packages (from spacy<4->fastai) (4.63.0)\n",
            "Requirement already satisfied: thinc==7.4.0 in /usr/local/lib/python3.7/dist-packages (from spacy<4->fastai) (7.4.0)\n",
            "Requirement already satisfied: importlib-metadata>=0.20 in /usr/local/lib/python3.7/dist-packages (from catalogue<1.1.0,>=0.0.7->spacy<4->fastai) (4.11.2)\n",
            "Requirement already satisfied: zipp>=0.5 in /usr/local/lib/python3.7/dist-packages (from importlib-metadata>=0.20->catalogue<1.1.0,>=0.0.7->spacy<4->fastai) (3.7.0)\n",
            "Requirement already satisfied: typing-extensions>=3.6.4 in /usr/local/lib/python3.7/dist-packages (from importlib-metadata>=0.20->catalogue<1.1.0,>=0.0.7->spacy<4->fastai) (3.10.0.2)\n",
            "Requirement already satisfied: urllib3!=1.25.0,!=1.25.1,<1.26,>=1.21.1 in /usr/local/lib/python3.7/dist-packages (from requests->fastai) (1.24.3)\n",
            "Requirement already satisfied: certifi>=2017.4.17 in /usr/local/lib/python3.7/dist-packages (from requests->fastai) (2021.10.8)\n",
            "Requirement already satisfied: idna<3,>=2.5 in /usr/local/lib/python3.7/dist-packages (from requests->fastai) (2.10)\n",
            "Requirement already satisfied: chardet<4,>=3.0.2 in /usr/local/lib/python3.7/dist-packages (from requests->fastai) (3.0.4)\n",
            "Requirement already satisfied: cycler>=0.10 in /usr/local/lib/python3.7/dist-packages (from matplotlib->fastai) (0.11.0)\n",
            "Requirement already satisfied: pyparsing!=2.0.4,!=2.1.2,!=2.1.6,>=2.0.1 in /usr/local/lib/python3.7/dist-packages (from matplotlib->fastai) (3.0.7)\n",
            "Requirement already satisfied: kiwisolver>=1.0.1 in /usr/local/lib/python3.7/dist-packages (from matplotlib->fastai) (1.3.2)\n",
            "Requirement already satisfied: python-dateutil>=2.1 in /usr/local/lib/python3.7/dist-packages (from matplotlib->fastai) (2.8.2)\n",
            "Requirement already satisfied: six>=1.5 in /usr/local/lib/python3.7/dist-packages (from python-dateutil>=2.1->matplotlib->fastai) (1.15.0)\n",
            "Requirement already satisfied: pytz>=2017.3 in /usr/local/lib/python3.7/dist-packages (from pandas->fastai) (2018.9)\n",
            "Requirement already satisfied: joblib>=0.11 in /usr/local/lib/python3.7/dist-packages (from scikit-learn->fastai) (1.1.0)\n",
            "Requirement already satisfied: threadpoolctl>=2.0.0 in /usr/local/lib/python3.7/dist-packages (from scikit-learn->fastai) (3.1.0)\n",
            "Installing collected packages: fastcore, fastdownload, fastai\n",
            "  Attempting uninstall: fastai\n",
            "    Found existing installation: fastai 1.0.61\n",
            "    Uninstalling fastai-1.0.61:\n",
            "      Successfully uninstalled fastai-1.0.61\n",
            "Successfully installed fastai-2.5.3 fastcore-1.3.29 fastdownload-0.0.5\n"
          ]
        }
      ],
      "source": [
        "!pip3 install fastai --upgrade\n",
        "\n",
        "from fastai.vision.all import *\n",
        "from sklearn.metrics import accuracy_score\n",
        "import numpy as np"
      ]
    },
    {
      "cell_type": "code",
      "source": [
        "# dataset from Drive\n",
        "from google.colab import drive\n",
        "drive.mount('/content/drive')\n",
        "!mkdir /content/dataset/\n",
        "!unzip \"drive/MyDrive/AML/AML_dataset.zip\" -d \"/content/dataset/\""
      ],
      "metadata": {
        "id": "hKYxDlSuyo35"
      },
      "execution_count": null,
      "outputs": []
    },
    {
      "cell_type": "code",
      "source": [
        "#loading train and validation dataset\n",
        "img_path = 'dataset/'\n",
        "img_size = 32\n",
        "batch_size = 128\n",
        "\n",
        "dblock = DataBlock(blocks=(ImageBlock, CategoryBlock),\n",
        "                   get_items=get_image_files,\n",
        "                   splitter=GrandparentSplitter(train_name='train',\n",
        "                                                valid_name='validation'\n",
        "                                                ),\n",
        "                   get_y=parent_label,\n",
        "                   item_tfms=[Resize(img_size)],\n",
        "                   batch_tfms=aug_transforms()\n",
        "                   )\n",
        "dls = dblock.dataloaders(img_path, \n",
        "                         bs=batch_size, \n",
        "                         verbose=True, \n",
        "                         device=torch.device('cuda')\n",
        "                         )\n",
        "print(dls.vocab)\n",
        "dls.show_batch()"
      ],
      "metadata": {
        "id": "iFI7A0ng8jX2"
      },
      "execution_count": null,
      "outputs": []
    },
    {
      "cell_type": "code",
      "source": [
        "# model\n",
        "learn = cnn_learner(dls, \n",
        "                    resnet34, \n",
        "                    splitter=default_split, \n",
        "                    metrics=[accuracy, error_rate], \n",
        "                    cbs=[ShowGraphCallback()], \n",
        "                    model_dir='drive/MyDrive/AML/models/'\n",
        "                    )\n",
        "learn.summary()"
      ],
      "metadata": {
        "id": "2esDljbE9g-G"
      },
      "execution_count": null,
      "outputs": []
    },
    {
      "cell_type": "code",
      "source": [
        "# automatic learning rate finder\n",
        "learn.lr_find()"
      ],
      "metadata": {
        "id": "K4OczgclMHbs"
      },
      "execution_count": null,
      "outputs": []
    },
    {
      "cell_type": "code",
      "source": [
        "# transfer learning (warm up)\n",
        "epochs = 10\n",
        "lr = 1e-3\n",
        "\n",
        "callbacks = [SaveModelCallback(monitor='accuracy', \n",
        "                               comp=np.greater, \n",
        "                               fname='best_model'\n",
        "                               ),\n",
        "             EarlyStoppingCallback(monitor='accuracy', \n",
        "                                   min_delta=1e-4, \n",
        "                                   patience=3\n",
        "                                   )\n",
        "             ]\n",
        "\n",
        "#learn.freeze()\n",
        "learn.fit_one_cycle(epochs, cbs=callbacks)"
      ],
      "metadata": {
        "id": "T2Wi8ykL-fov"
      },
      "execution_count": null,
      "outputs": []
    },
    {
      "cell_type": "code",
      "source": [
        "# fine tuning\n",
        "epochs = 50\n",
        "lr = 1e-4\n",
        "\n",
        "callbacks = [SaveModelCallback(monitor='accuracy', \n",
        "                               comp=np.greater, \n",
        "                               fname='best_model'\n",
        "                               ),\n",
        "             EarlyStoppingCallback(monitor='accuracy', \n",
        "                                   min_delta=1e-4, \n",
        "                                   patience=5\n",
        "                                   )\n",
        "             ]\n",
        "\n",
        "learn.unfreeze()\n",
        "learn.fit_one_cycle(epochs, \n",
        "                    lr_max=slice(1e-4,1e-3), \n",
        "                    cbs=callbacks\n",
        "                    )\n",
        "learn.save('model')\n",
        "learn.export('drive/MyDrive/AML/model.pkl')"
      ],
      "metadata": {
        "id": "OMDnRgU6DYGl"
      },
      "execution_count": null,
      "outputs": []
    },
    {
      "cell_type": "code",
      "source": [
        "# confusion matrix\n",
        "interp = ClassificationInterpretation.from_learner(learn)\n",
        "#interp.plot_top_losses(interp, 9, nrows=3)\n",
        "\n",
        "interp.plot_confusion_matrix(figsize=(10,10))"
      ],
      "metadata": {
        "id": "TKU2Ln_u-u5C"
      },
      "execution_count": null,
      "outputs": []
    },
    {
      "cell_type": "code",
      "source": [
        "# loading model\n",
        "'''learn = cnn_learner(dls, \n",
        "                    resnet34, \n",
        "                    splitter=default_split, \n",
        "                    metrics=[accuracy, error_rate], \n",
        "                    cbs=[ShowGraphCallback()], \n",
        "                    model_dir='drive/MyDrive/AML/models/'\n",
        "                    )\n",
        "learn.load('model')'''\n",
        "learn = load_learner('drive/MyDrive/AML/model.pkl')"
      ],
      "metadata": {
        "id": "CUqUGlTuB4-3"
      },
      "execution_count": null,
      "outputs": []
    },
    {
      "cell_type": "code",
      "source": [
        "# predictions on a test dataset (labelled)\n",
        "test_files = get_image_files('dataset/test_labelled/')\n",
        "test_dl = learn.dls.test_dl(test_files, with_labels=True)\n",
        "preds, targs = learn.get_preds(dl=test_dl)\n",
        "\n",
        "preds_class = preds.argmax(dim=1)\n",
        "test_acc = accuracy_score(targs, preds_class)\n",
        "print('Test accuracy: ', test_acc)"
      ],
      "metadata": {
        "id": "za8QU7IJ30fm"
      },
      "execution_count": null,
      "outputs": []
    },
    {
      "cell_type": "code",
      "source": [
        "# predictions on a test dataset (unlabelled)\n",
        "test_files = get_image_files('dataset/test_unlabelled/')\n",
        "test_files = test_files.sorted()\n",
        "test_dl = learn.dls.test_dl(test_files, with_labels=False)\n",
        "preds, _ = learn.get_preds(dl=test_dl)\n",
        "\n",
        "preds_class = preds.argmax(dim=1)\n",
        "np.savetxt('drive/MyDrive/AML/predictions.csv', preds_class, delimiter=',')"
      ],
      "metadata": {
        "id": "VSkHizp3ofJU"
      },
      "execution_count": null,
      "outputs": []
    }
  ]
}