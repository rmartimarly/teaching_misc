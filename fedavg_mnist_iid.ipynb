{
  "cells": [
    {
      "cell_type": "markdown",
      "metadata": {
        "id": "view-in-github",
        "colab_type": "text"
      },
      "source": [
        "<a href=\"https://colab.research.google.com/github/rmartimarly/teaching_misc/blob/main/fedavg_mnist_iid.ipynb\" target=\"_parent\"><img src=\"https://colab.research.google.com/assets/colab-badge.svg\" alt=\"Open In Colab\"/></a>"
      ]
    },
    {
      "cell_type": "markdown",
      "metadata": {
        "id": "aZwGlaanb-rB"
      },
      "source": [
        "## <font color=#6B49F5> A Simple Implementation of FedAvg with PyTorch on IID Data </font>\n",
        "Please see https://towardsdatascience.com/federated-learning-a-simple-implementation-of-fedavg-federated-averaging-with-pytorch-90187c9c9577 for more details."
      ]
    },
    {
      "cell_type": "code",
      "execution_count": 1,
      "metadata": {
        "id": "cqBCUeJWb-rE"
      },
      "outputs": [],
      "source": [
        "import numpy as np\n",
        "import pandas as pd\n",
        "from sklearn import tree\n",
        "from sklearn.metrics import accuracy_score\n",
        "from sklearn.ensemble import RandomForestClassifier\n",
        "import random\n",
        "import math\n",
        "from torch.utils.tensorboard import SummaryWriter\n",
        "from matplotlib import pyplot\n",
        "\n",
        "\n",
        "from pathlib import Path\n",
        "import requests\n",
        "import pickle\n",
        "import gzip\n",
        "\n",
        "import torch\n",
        "import math\n",
        "import torch.nn.functional as F\n",
        "from torch import nn\n",
        "from torch import optim\n",
        "import torchvision\n",
        "import torchvision.transforms as transforms\n",
        "from torch.utils.data import TensorDataset\n",
        "from torch.utils.data import DataLoader\n",
        "\n",
        "pd.options.display.float_format = \"{:,.4f}\".format"
      ]
    },
    {
      "cell_type": "code",
      "execution_count": 48,
      "metadata": {
        "id": "a-tPSyNbb-rE",
        "outputId": "cf716578-4b3b-4a3d-840c-dcafea879256",
        "colab": {
          "base_uri": "https://localhost:8080/"
        }
      },
      "outputs": [
        {
          "output_type": "stream",
          "name": "stderr",
          "text": [
            "Downloading...\n",
            "From: https://figshare.com/articles/dataset/mnist_pkl_gz/13303457\n",
            "To: /content/data/mnist.pkl.gz\n",
            "118kB [00:00, 231MB/s]"
          ]
        },
        {
          "output_type": "stream",
          "name": "stdout",
          "text": [
            "MNIST dataset downloaded successfully!\n"
          ]
        },
        {
          "output_type": "stream",
          "name": "stderr",
          "text": [
            "\n"
          ]
        }
      ],
      "source": [
        "import gdown\n",
        "import os\n",
        "\n",
        "# Define the URL for the MNIST dataset on Google Drive\n",
        "# url = 'https://drive.google.com/uc?id=1O-i56kpFMbYOjCaeizHZjyozMG-g25Rx'\n",
        "url = 'https://figshare.com/articles/dataset/mnist_pkl_gz/13303457'\n",
        "# url = 'https://drive.google.com/uc?id=1NZz6U5Kc8mk3_9O1FJ8LT3g3gR3RPHZf'\n",
        "# url = 'https://drive.google.com/uc?id=1NjvL5Jtgom0PdTzR3OwV-rS0iaYpN1U4'\n",
        "\n",
        "# https://drive.google.com/file/d/1O-i56kpFMbYOjCaeizHZjyozMG-g25Rx/view?usp=sharing\n",
        "# Define the destination path for saving the dataset\n",
        "destination = 'data/mnist.pkl.gz'\n",
        "\n",
        "# Download the dataset\n",
        "gdown.download(url, destination,\n",
        "               quiet=False)\n",
        "\n",
        "# Check if the file is downloaded successfully\n",
        "if os.path.exists(destination):\n",
        "    print(\"MNIST dataset downloaded successfully!\")\n",
        "else:\n",
        "    print(\"Failed to download MNIST dataset.\")"
      ]
    },
    {
      "cell_type": "code",
      "source": [
        "((x_train, y_train), (x_valid, y_valid), (x_test, y_test)) = pickle.load('data/mnist.pkl')"
      ],
      "metadata": {
        "id": "w2IIjXRktXGR",
        "outputId": "d8d2dd28-286d-46e9-afed-7a7fcff23d68",
        "colab": {
          "base_uri": "https://localhost:8080/",
          "height": 141
        }
      },
      "execution_count": 44,
      "outputs": [
        {
          "output_type": "error",
          "ename": "TypeError",
          "evalue": "file must have 'read' and 'readline' attributes",
          "traceback": [
            "\u001b[0;31m---------------------------------------------------------------------------\u001b[0m",
            "\u001b[0;31mTypeError\u001b[0m                                 Traceback (most recent call last)",
            "\u001b[0;32m<ipython-input-44-e4a3eff68db4>\u001b[0m in \u001b[0;36m<cell line: 1>\u001b[0;34m()\u001b[0m\n\u001b[0;32m----> 1\u001b[0;31m \u001b[0;34m(\u001b[0m\u001b[0;34m(\u001b[0m\u001b[0mx_train\u001b[0m\u001b[0;34m,\u001b[0m \u001b[0my_train\u001b[0m\u001b[0;34m)\u001b[0m\u001b[0;34m,\u001b[0m \u001b[0;34m(\u001b[0m\u001b[0mx_valid\u001b[0m\u001b[0;34m,\u001b[0m \u001b[0my_valid\u001b[0m\u001b[0;34m)\u001b[0m\u001b[0;34m,\u001b[0m \u001b[0;34m(\u001b[0m\u001b[0mx_test\u001b[0m\u001b[0;34m,\u001b[0m \u001b[0my_test\u001b[0m\u001b[0;34m)\u001b[0m\u001b[0;34m)\u001b[0m \u001b[0;34m=\u001b[0m \u001b[0mpickle\u001b[0m\u001b[0;34m.\u001b[0m\u001b[0mload\u001b[0m\u001b[0;34m(\u001b[0m\u001b[0;34m'data/mnist.pkl'\u001b[0m\u001b[0;34m)\u001b[0m\u001b[0;34m\u001b[0m\u001b[0;34m\u001b[0m\u001b[0m\n\u001b[0m",
            "\u001b[0;31mTypeError\u001b[0m: file must have 'read' and 'readline' attributes"
          ]
        }
      ]
    },
    {
      "cell_type": "markdown",
      "source": [],
      "metadata": {
        "id": "5I9XyEINv0SU"
      }
    },
    {
      "cell_type": "code",
      "execution_count": 47,
      "metadata": {
        "id": "S8R1dSZLb-rF",
        "outputId": "4254c134-b213-4cc4-c929-15f4d8f37b1d",
        "colab": {
          "base_uri": "https://localhost:8080/",
          "height": 339
        }
      },
      "outputs": [
        {
          "output_type": "error",
          "ename": "BadGzipFile",
          "evalue": "Not a gzipped file (b'<!')",
          "traceback": [
            "\u001b[0;31m---------------------------------------------------------------------------\u001b[0m",
            "\u001b[0;31mBadGzipFile\u001b[0m                               Traceback (most recent call last)",
            "\u001b[0;32m<ipython-input-47-c744c7e4b841>\u001b[0m in \u001b[0;36m<cell line: 1>\u001b[0;34m()\u001b[0m\n\u001b[1;32m      1\u001b[0m \u001b[0;32mwith\u001b[0m \u001b[0mgzip\u001b[0m\u001b[0;34m.\u001b[0m\u001b[0mopen\u001b[0m\u001b[0;34m(\u001b[0m\u001b[0;34m'data/mnist.pkl.gz'\u001b[0m\u001b[0;34m,\u001b[0m \u001b[0;34m\"rb\"\u001b[0m\u001b[0;34m)\u001b[0m \u001b[0;32mas\u001b[0m \u001b[0mf\u001b[0m\u001b[0;34m:\u001b[0m\u001b[0;34m\u001b[0m\u001b[0;34m\u001b[0m\u001b[0m\n\u001b[0;32m----> 2\u001b[0;31m         \u001b[0;34m(\u001b[0m\u001b[0;34m(\u001b[0m\u001b[0mx_train\u001b[0m\u001b[0;34m,\u001b[0m \u001b[0my_train\u001b[0m\u001b[0;34m)\u001b[0m\u001b[0;34m,\u001b[0m \u001b[0;34m(\u001b[0m\u001b[0mx_valid\u001b[0m\u001b[0;34m,\u001b[0m \u001b[0my_valid\u001b[0m\u001b[0;34m)\u001b[0m\u001b[0;34m,\u001b[0m \u001b[0;34m(\u001b[0m\u001b[0mx_test\u001b[0m\u001b[0;34m,\u001b[0m \u001b[0my_test\u001b[0m\u001b[0;34m)\u001b[0m\u001b[0;34m)\u001b[0m \u001b[0;34m=\u001b[0m \u001b[0mpickle\u001b[0m\u001b[0;34m.\u001b[0m\u001b[0mload\u001b[0m\u001b[0;34m(\u001b[0m\u001b[0mf\u001b[0m\u001b[0;34m,\u001b[0m \u001b[0mencoding\u001b[0m\u001b[0;34m=\u001b[0m\u001b[0;34m\"latin-1\"\u001b[0m\u001b[0;34m)\u001b[0m\u001b[0;34m\u001b[0m\u001b[0;34m\u001b[0m\u001b[0m\n\u001b[0m\u001b[1;32m      3\u001b[0m \u001b[0;34m\u001b[0m\u001b[0m\n",
            "\u001b[0;32m/usr/lib/python3.10/gzip.py\u001b[0m in \u001b[0;36mpeek\u001b[0;34m(self, n)\u001b[0m\n\u001b[1;32m    319\u001b[0m             \u001b[0;32mimport\u001b[0m \u001b[0merrno\u001b[0m\u001b[0;34m\u001b[0m\u001b[0;34m\u001b[0m\u001b[0m\n\u001b[1;32m    320\u001b[0m             \u001b[0;32mraise\u001b[0m \u001b[0mOSError\u001b[0m\u001b[0;34m(\u001b[0m\u001b[0merrno\u001b[0m\u001b[0;34m.\u001b[0m\u001b[0mEBADF\u001b[0m\u001b[0;34m,\u001b[0m \u001b[0;34m\"peek() on write-only GzipFile object\"\u001b[0m\u001b[0;34m)\u001b[0m\u001b[0;34m\u001b[0m\u001b[0;34m\u001b[0m\u001b[0m\n\u001b[0;32m--> 321\u001b[0;31m         \u001b[0;32mreturn\u001b[0m \u001b[0mself\u001b[0m\u001b[0;34m.\u001b[0m\u001b[0m_buffer\u001b[0m\u001b[0;34m.\u001b[0m\u001b[0mpeek\u001b[0m\u001b[0;34m(\u001b[0m\u001b[0mn\u001b[0m\u001b[0;34m)\u001b[0m\u001b[0;34m\u001b[0m\u001b[0;34m\u001b[0m\u001b[0m\n\u001b[0m\u001b[1;32m    322\u001b[0m \u001b[0;34m\u001b[0m\u001b[0m\n\u001b[1;32m    323\u001b[0m     \u001b[0;34m@\u001b[0m\u001b[0mproperty\u001b[0m\u001b[0;34m\u001b[0m\u001b[0;34m\u001b[0m\u001b[0m\n",
            "\u001b[0;32m/usr/lib/python3.10/_compression.py\u001b[0m in \u001b[0;36mreadinto\u001b[0;34m(self, b)\u001b[0m\n\u001b[1;32m     66\u001b[0m     \u001b[0;32mdef\u001b[0m \u001b[0mreadinto\u001b[0m\u001b[0;34m(\u001b[0m\u001b[0mself\u001b[0m\u001b[0;34m,\u001b[0m \u001b[0mb\u001b[0m\u001b[0;34m)\u001b[0m\u001b[0;34m:\u001b[0m\u001b[0;34m\u001b[0m\u001b[0;34m\u001b[0m\u001b[0m\n\u001b[1;32m     67\u001b[0m         \u001b[0;32mwith\u001b[0m \u001b[0mmemoryview\u001b[0m\u001b[0;34m(\u001b[0m\u001b[0mb\u001b[0m\u001b[0;34m)\u001b[0m \u001b[0;32mas\u001b[0m \u001b[0mview\u001b[0m\u001b[0;34m,\u001b[0m \u001b[0mview\u001b[0m\u001b[0;34m.\u001b[0m\u001b[0mcast\u001b[0m\u001b[0;34m(\u001b[0m\u001b[0;34m\"B\"\u001b[0m\u001b[0;34m)\u001b[0m \u001b[0;32mas\u001b[0m \u001b[0mbyte_view\u001b[0m\u001b[0;34m:\u001b[0m\u001b[0;34m\u001b[0m\u001b[0;34m\u001b[0m\u001b[0m\n\u001b[0;32m---> 68\u001b[0;31m             \u001b[0mdata\u001b[0m \u001b[0;34m=\u001b[0m \u001b[0mself\u001b[0m\u001b[0;34m.\u001b[0m\u001b[0mread\u001b[0m\u001b[0;34m(\u001b[0m\u001b[0mlen\u001b[0m\u001b[0;34m(\u001b[0m\u001b[0mbyte_view\u001b[0m\u001b[0;34m)\u001b[0m\u001b[0;34m)\u001b[0m\u001b[0;34m\u001b[0m\u001b[0;34m\u001b[0m\u001b[0m\n\u001b[0m\u001b[1;32m     69\u001b[0m             \u001b[0mbyte_view\u001b[0m\u001b[0;34m[\u001b[0m\u001b[0;34m:\u001b[0m\u001b[0mlen\u001b[0m\u001b[0;34m(\u001b[0m\u001b[0mdata\u001b[0m\u001b[0;34m)\u001b[0m\u001b[0;34m]\u001b[0m \u001b[0;34m=\u001b[0m \u001b[0mdata\u001b[0m\u001b[0;34m\u001b[0m\u001b[0;34m\u001b[0m\u001b[0m\n\u001b[1;32m     70\u001b[0m         \u001b[0;32mreturn\u001b[0m \u001b[0mlen\u001b[0m\u001b[0;34m(\u001b[0m\u001b[0mdata\u001b[0m\u001b[0;34m)\u001b[0m\u001b[0;34m\u001b[0m\u001b[0;34m\u001b[0m\u001b[0m\n",
            "\u001b[0;32m/usr/lib/python3.10/gzip.py\u001b[0m in \u001b[0;36mread\u001b[0;34m(self, size)\u001b[0m\n\u001b[1;32m    486\u001b[0m                 \u001b[0;31m# jump to the next member, if there is one.\u001b[0m\u001b[0;34m\u001b[0m\u001b[0;34m\u001b[0m\u001b[0m\n\u001b[1;32m    487\u001b[0m                 \u001b[0mself\u001b[0m\u001b[0;34m.\u001b[0m\u001b[0m_init_read\u001b[0m\u001b[0;34m(\u001b[0m\u001b[0;34m)\u001b[0m\u001b[0;34m\u001b[0m\u001b[0;34m\u001b[0m\u001b[0m\n\u001b[0;32m--> 488\u001b[0;31m                 \u001b[0;32mif\u001b[0m \u001b[0;32mnot\u001b[0m \u001b[0mself\u001b[0m\u001b[0;34m.\u001b[0m\u001b[0m_read_gzip_header\u001b[0m\u001b[0;34m(\u001b[0m\u001b[0;34m)\u001b[0m\u001b[0;34m:\u001b[0m\u001b[0;34m\u001b[0m\u001b[0;34m\u001b[0m\u001b[0m\n\u001b[0m\u001b[1;32m    489\u001b[0m                     \u001b[0mself\u001b[0m\u001b[0;34m.\u001b[0m\u001b[0m_size\u001b[0m \u001b[0;34m=\u001b[0m \u001b[0mself\u001b[0m\u001b[0;34m.\u001b[0m\u001b[0m_pos\u001b[0m\u001b[0;34m\u001b[0m\u001b[0;34m\u001b[0m\u001b[0m\n\u001b[1;32m    490\u001b[0m                     \u001b[0;32mreturn\u001b[0m \u001b[0;34mb\"\"\u001b[0m\u001b[0;34m\u001b[0m\u001b[0;34m\u001b[0m\u001b[0m\n",
            "\u001b[0;32m/usr/lib/python3.10/gzip.py\u001b[0m in \u001b[0;36m_read_gzip_header\u001b[0;34m(self)\u001b[0m\n\u001b[1;32m    434\u001b[0m \u001b[0;34m\u001b[0m\u001b[0m\n\u001b[1;32m    435\u001b[0m         \u001b[0;32mif\u001b[0m \u001b[0mmagic\u001b[0m \u001b[0;34m!=\u001b[0m \u001b[0;34mb'\\037\\213'\u001b[0m\u001b[0;34m:\u001b[0m\u001b[0;34m\u001b[0m\u001b[0;34m\u001b[0m\u001b[0m\n\u001b[0;32m--> 436\u001b[0;31m             \u001b[0;32mraise\u001b[0m \u001b[0mBadGzipFile\u001b[0m\u001b[0;34m(\u001b[0m\u001b[0;34m'Not a gzipped file (%r)'\u001b[0m \u001b[0;34m%\u001b[0m \u001b[0mmagic\u001b[0m\u001b[0;34m)\u001b[0m\u001b[0;34m\u001b[0m\u001b[0;34m\u001b[0m\u001b[0m\n\u001b[0m\u001b[1;32m    437\u001b[0m \u001b[0;34m\u001b[0m\u001b[0m\n\u001b[1;32m    438\u001b[0m         (method, flag,\n",
            "\u001b[0;31mBadGzipFile\u001b[0m: Not a gzipped file (b'<!')"
          ]
        }
      ],
      "source": [
        "with gzip.open('data/mnist.pkl.gz', \"rb\") as f:\n",
        "        ((x_train, y_train), (x_valid, y_valid), (x_test, y_test)) = pickle.load(f, encoding=\"latin-1\")\n",
        ""
      ]
    },
    {
      "cell_type": "code",
      "source": [
        "import torch\n",
        "import torchvision\n",
        "import torchvision.transforms as transforms\n",
        "\n",
        "# Download the MNIST training dataset without any transforms\n",
        "trainset = torchvision.datasets.MNIST(root='./data', train=True, download=True)\n",
        "\n",
        "# Download the MNIST test dataset without any transforms\n",
        "testset = torchvision.datasets.MNIST(root='./data', train=False, download=True)\n",
        "\n",
        "# Calculate the size of the validation set\n",
        "train_size = len(trainset)\n",
        "valid_size = 10000\n",
        "new_train_size = train_size - valid_size\n",
        "\n",
        "# Split the training dataset into training and validation sets\n",
        "trainset, validset = torch.utils.data.random_split(trainset, [new_train_size, valid_size])\n",
        "\n",
        "x_train, y_train = zip(*trainset)\n",
        "x_valid, y_valid = zip(*validset)\n",
        "x_test, y_test = zip(*testset)\n",
        "\n",
        "# Convert images to NumPy arrays\n",
        "x_train = np.array([np.array(img).astype(np.float32).flatten()/ 255.0  for img in x_train])\n",
        "x_valid = np.array([np.array(img).astype(np.float32).flatten()/ 255.0  for img in x_valid])\n",
        "x_test = np.array([np.array(img).astype(np.float32).flatten()/ 255.0  for img in x_test])\n",
        "\n",
        "# Convert labels to NumPy arrays\n",
        "y_train = np.array(y_train)\n",
        "y_valid = np.array(y_valid)\n",
        "y_test = np.array(y_test)"
      ],
      "metadata": {
        "id": "i-jX01b43WvI"
      },
      "execution_count": 159,
      "outputs": []
    },
    {
      "cell_type": "code",
      "execution_count": 160,
      "metadata": {
        "id": "UQl_b6tjb-rF",
        "outputId": "3346026d-2e87-4c61-f926-caed47c64f52",
        "colab": {
          "base_uri": "https://localhost:8080/"
        }
      },
      "outputs": [
        {
          "output_type": "execute_result",
          "data": {
            "text/plain": [
              "((50000, 784), (50000,), (10000, 784), (10000,), (10000, 784), (10000,))"
            ]
          },
          "metadata": {},
          "execution_count": 160
        }
      ],
      "source": [
        "# Let's see the dataset size\n",
        "x_train.shape, y_train.shape , x_valid.shape, y_valid.shape, x_test.shape, y_test.shape"
      ]
    },
    {
      "cell_type": "code",
      "execution_count": 161,
      "metadata": {
        "id": "tRQAC_Cmb-rG",
        "outputId": "3d37ab1d-6b42-4765-b3bd-a3c11d7efa42",
        "colab": {
          "base_uri": "https://localhost:8080/",
          "height": 653
        }
      },
      "outputs": [
        {
          "output_type": "display_data",
          "data": {
            "text/plain": [
              "<Figure size 800x800 with 64 Axes>"
            ],
            "image/png": "[encoded data removed]"
          },
          "metadata": {}
        }
      ],
      "source": [
        "fig, axes = pyplot.subplots(8,8,figsize=(8,8))\n",
        "for i in range(8):\n",
        "    for j in range(8):\n",
        "        num_index = np.random.randint(len(x_train))\n",
        "        axes[i,j].imshow(x_train[num_index].reshape((28,28)), cmap=\"gray\")\n",
        "        axes[i,j].axis(\"off\")\n",
        "pyplot.show()"
      ]
    },
    {
      "cell_type": "markdown",
      "metadata": {
        "id": "wf1dIYWIb-rG"
      },
      "source": [
        "**Let's check how many of each tag are**"
      ]
    },
    {
      "cell_type": "code",
      "execution_count": 162,
      "metadata": {
        "id": "M8BbI21ab-rG",
        "outputId": "81417373-db6f-49de-9ecf-2c9172438fb2",
        "colab": {
          "base_uri": "https://localhost:8080/"
        }
      },
      "outputs": [
        {
          "output_type": "stream",
          "name": "stdout",
          "text": [
            "0 >> train: 4926 , valid: 997 , test: 980 , total: 6903\n",
            "1 >> train: 5593 , valid: 1149 , test: 1135 , total: 7877\n",
            "2 >> train: 4982 , valid: 976 , test: 1032 , total: 6990\n",
            "3 >> train: 5091 , valid: 1040 , test: 1010 , total: 7141\n",
            "4 >> train: 4898 , valid: 944 , test: 982 , total: 6824\n",
            "5 >> train: 4549 , valid: 872 , test: 892 , total: 6313\n",
            "6 >> train: 4919 , valid: 999 , test: 958 , total: 6876\n",
            "7 >> train: 5179 , valid: 1086 , test: 1028 , total: 7293\n",
            "8 >> train: 4894 , valid: 957 , test: 974 , total: 6825\n",
            "9 >> train: 4969 , valid: 980 , test: 1009 , total: 6958\n",
            "y_train_total= 50000\n",
            "y_valid_total= 10000\n",
            "y_test_total= 10000\n",
            "total= 70000\n"
          ]
        }
      ],
      "source": [
        "# Let's check how many of each tag are.\n",
        "y_train_total=0\n",
        "y_valid_total=0\n",
        "y_test_total=0\n",
        "total=0\n",
        "for i in range(10):\n",
        "    print(i,\">> train:\", sum(y_train==i), \", valid:\", sum(y_valid==i),\n",
        "          \", test:\", sum(y_test==i), \", total:\", sum(y_train==i)+sum(y_valid==i)+sum(y_test==i) )\n",
        "    y_train_total=y_train_total + sum(y_train==i)\n",
        "    y_valid_total=y_valid_total + sum(y_valid==i)\n",
        "    y_test_total=y_test_total + sum(y_test==i)\n",
        "    total=total+sum(y_train==i)+sum(y_valid==i)+sum(y_test==i)\n",
        "\n",
        "print(\"y_train_total=\", y_train_total)\n",
        "print(\"y_valid_total=\", y_valid_total)\n",
        "print(\"y_test_total=\", y_test_total)\n",
        "print(\"total=\", total)"
      ]
    },
    {
      "cell_type": "code",
      "execution_count": 163,
      "metadata": {
        "id": "WKQWogw9b-rH"
      },
      "outputs": [],
      "source": [
        "def split_and_shuffle_labels(y_data, seed, amount):\n",
        "    y_data=pd.DataFrame(y_data,columns=[\"labels\"])\n",
        "    y_data[\"i\"]=np.arange(len(y_data))\n",
        "    label_dict = dict()\n",
        "    for i in range(10):\n",
        "        var_name=\"label\" + str(i)\n",
        "        label_info=y_data[y_data[\"labels\"]==i]\n",
        "        np.random.seed(seed)\n",
        "        label_info=np.random.permutation(label_info)\n",
        "        label_info=label_info[0:amount]\n",
        "        label_info=pd.DataFrame(label_info, columns=[\"labels\",\"i\"])\n",
        "        label_dict.update({var_name: label_info })\n",
        "    return label_dict"
      ]
    },
    {
      "cell_type": "code",
      "execution_count": 164,
      "metadata": {
        "id": "h0UcviRbb-rH"
      },
      "outputs": [],
      "source": [
        "def get_iid_subsamples_indices(label_dict, number_of_samples, amount):\n",
        "    sample_dict= dict()\n",
        "    batch_size=int(math.floor(amount/number_of_samples))\n",
        "    for i in range(number_of_samples):\n",
        "        sample_name=\"sample\"+str(i)\n",
        "        dumb=pd.DataFrame()\n",
        "        for j in range(10):\n",
        "            label_name=str(\"label\")+str(j)\n",
        "            a=label_dict[label_name][i*batch_size:(i+1)*batch_size]\n",
        "            dumb=pd.concat([dumb,a], axis=0)\n",
        "        dumb.reset_index(drop=True, inplace=True)\n",
        "        sample_dict.update({sample_name: dumb})\n",
        "    return sample_dict"
      ]
    },
    {
      "cell_type": "code",
      "execution_count": 165,
      "metadata": {
        "id": "UGZb4TfUb-rH"
      },
      "outputs": [],
      "source": [
        "def create_iid_subsamples(sample_dict, x_data, y_data, x_name, y_name):\n",
        "    x_data_dict= dict()\n",
        "    y_data_dict= dict()\n",
        "\n",
        "    for i in range(len(sample_dict)):  ### len(sample_dict)= number of samples\n",
        "        xname= x_name+str(i)\n",
        "        yname= y_name+str(i)\n",
        "        sample_name=\"sample\"+str(i)\n",
        "\n",
        "        indices=np.sort(np.array(sample_dict[sample_name][\"i\"]))\n",
        "\n",
        "        x_info= x_data[indices,:]\n",
        "        x_data_dict.update({xname : x_info})\n",
        "\n",
        "        y_info= y_data[indices]\n",
        "        y_data_dict.update({yname : y_info})\n",
        "\n",
        "    return x_data_dict, y_data_dict"
      ]
    },
    {
      "cell_type": "markdown",
      "metadata": {
        "id": "WcfdVHFtb-rH"
      },
      "source": [
        "--------------------------\n",
        "### <span style=\"background-color:#F087F9\"> Classification Model </span>"
      ]
    },
    {
      "cell_type": "code",
      "execution_count": 166,
      "metadata": {
        "id": "ju9g5UXIb-rH"
      },
      "outputs": [],
      "source": [
        "class Net2nn(nn.Module):\n",
        "    def __init__(self):\n",
        "        super(Net2nn, self).__init__()\n",
        "        self.fc1=nn.Linear(784,200)\n",
        "        self.fc2=nn.Linear(200,200)\n",
        "        self.fc3=nn.Linear(200,10)\n",
        "\n",
        "    def forward(self,x):\n",
        "        x=F.relu(self.fc1(x))\n",
        "        x=F.relu(self.fc2(x))\n",
        "        x=self.fc3(x)\n",
        "        return x"
      ]
    },
    {
      "cell_type": "code",
      "execution_count": 167,
      "metadata": {
        "id": "tfZ3ctCIb-rH"
      },
      "outputs": [],
      "source": [
        "class WrappedDataLoader:\n",
        "    def __init__(self, dl, func):\n",
        "        self.dl = dl\n",
        "        self.func = func\n",
        "\n",
        "    def __len__(self):\n",
        "        return len(self.dl)\n",
        "\n",
        "    def __iter__(self):\n",
        "        batches = iter(self.dl)\n",
        "        for b in batches:\n",
        "            yield (self.func(*b))"
      ]
    },
    {
      "cell_type": "code",
      "execution_count": 168,
      "metadata": {
        "id": "w-iVVLvgb-rI"
      },
      "outputs": [],
      "source": [
        "def train(model, train_loader, criterion, optimizer):\n",
        "    model.train()\n",
        "    train_loss = 0.0\n",
        "    correct = 0\n",
        "\n",
        "    for data, target in train_loader:\n",
        "        output = model(data)\n",
        "        loss = criterion(output, target)\n",
        "        optimizer.zero_grad()\n",
        "        loss.backward()\n",
        "        optimizer.step()\n",
        "\n",
        "        train_loss += loss.item()\n",
        "        prediction = output.argmax(dim=1, keepdim=True)\n",
        "        correct += prediction.eq(target.view_as(prediction)).sum().item()\n",
        "\n",
        "\n",
        "    return train_loss / len(train_loader), correct/len(train_loader.dataset)"
      ]
    },
    {
      "cell_type": "code",
      "execution_count": 169,
      "metadata": {
        "id": "c0yEPLbab-rI"
      },
      "outputs": [],
      "source": [
        "def validation(model, test_loader, criterion):\n",
        "    model.eval()\n",
        "    test_loss = 0.0\n",
        "    correct = 0\n",
        "    with torch.no_grad():\n",
        "        for data, target in test_loader:\n",
        "            output = model(data)\n",
        "\n",
        "            test_loss += criterion(output, target).item()\n",
        "            prediction = output.argmax(dim=1, keepdim=True)\n",
        "            correct += prediction.eq(target.view_as(prediction)).sum().item()\n",
        "\n",
        "    test_loss /= len(test_loader)\n",
        "    correct /= len(test_loader.dataset)\n",
        "\n",
        "    return (test_loss, correct)"
      ]
    },
    {
      "cell_type": "markdown",
      "metadata": {
        "id": "FD2GB2GXb-rI"
      },
      "source": [
        "---------------------------------\n",
        "### <span style=\"background-color:#F087F9\"> Functions for Federated Averaging </span>"
      ]
    },
    {
      "cell_type": "code",
      "execution_count": 170,
      "metadata": {
        "id": "_gvJjQHkb-rI"
      },
      "outputs": [],
      "source": [
        "def create_model_optimizer_criterion_dict(number_of_samples):\n",
        "    model_dict = dict()\n",
        "    optimizer_dict= dict()\n",
        "    criterion_dict = dict()\n",
        "\n",
        "    for i in range(number_of_samples):\n",
        "        model_name=\"model\"+str(i)\n",
        "        model_info=Net2nn()\n",
        "        model_dict.update({model_name : model_info })\n",
        "\n",
        "        optimizer_name=\"optimizer\"+str(i)\n",
        "        optimizer_info = torch.optim.SGD(model_info.parameters(), lr=learning_rate, momentum=momentum)\n",
        "        optimizer_dict.update({optimizer_name : optimizer_info })\n",
        "\n",
        "        criterion_name = \"criterion\"+str(i)\n",
        "        criterion_info = nn.CrossEntropyLoss()\n",
        "        criterion_dict.update({criterion_name : criterion_info})\n",
        "\n",
        "    return model_dict, optimizer_dict, criterion_dict"
      ]
    },
    {
      "cell_type": "code",
      "execution_count": 171,
      "metadata": {
        "id": "uEvZ6mZAb-rI"
      },
      "outputs": [],
      "source": [
        "def get_averaged_weights(model_dict, number_of_samples):\n",
        "\n",
        "    fc1_mean_weight = torch.zeros(size=model_dict[name_of_models[0]].fc1.weight.shape)\n",
        "    fc1_mean_bias = torch.zeros(size=model_dict[name_of_models[0]].fc1.bias.shape)\n",
        "\n",
        "    fc2_mean_weight = torch.zeros(size=model_dict[name_of_models[0]].fc2.weight.shape)\n",
        "    fc2_mean_bias = torch.zeros(size=model_dict[name_of_models[0]].fc2.bias.shape)\n",
        "\n",
        "    fc3_mean_weight = torch.zeros(size=model_dict[name_of_models[0]].fc3.weight.shape)\n",
        "    fc3_mean_bias = torch.zeros(size=model_dict[name_of_models[0]].fc3.bias.shape)\n",
        "\n",
        "    with torch.no_grad():\n",
        "\n",
        "\n",
        "        for i in range(number_of_samples):\n",
        "            fc1_mean_weight += model_dict[name_of_models[i]].fc1.weight.data.clone()\n",
        "            fc1_mean_bias += model_dict[name_of_models[i]].fc1.bias.data.clone()\n",
        "\n",
        "            fc2_mean_weight += model_dict[name_of_models[i]].fc2.weight.data.clone()\n",
        "            fc2_mean_bias += model_dict[name_of_models[i]].fc2.bias.data.clone()\n",
        "\n",
        "            fc3_mean_weight += model_dict[name_of_models[i]].fc3.weight.data.clone()\n",
        "            fc3_mean_bias += model_dict[name_of_models[i]].fc3.bias.data.clone()\n",
        "\n",
        "\n",
        "        fc1_mean_weight =fc1_mean_weight/number_of_samples\n",
        "        fc1_mean_bias = fc1_mean_bias/ number_of_samples\n",
        "\n",
        "        fc2_mean_weight =fc2_mean_weight/number_of_samples\n",
        "        fc2_mean_bias = fc2_mean_bias/ number_of_samples\n",
        "\n",
        "        fc3_mean_weight =fc3_mean_weight/number_of_samples\n",
        "        fc3_mean_bias = fc3_mean_bias/ number_of_samples\n",
        "\n",
        "    return fc1_mean_weight, fc1_mean_bias, fc2_mean_weight, fc2_mean_bias, fc3_mean_weight, fc3_mean_bias"
      ]
    },
    {
      "cell_type": "code",
      "execution_count": 172,
      "metadata": {
        "id": "BEj3KEyyb-rI"
      },
      "outputs": [],
      "source": [
        "def set_averaged_weights_as_main_model_weights_and_update_main_model(main_model,model_dict, number_of_samples):\n",
        "    fc1_mean_weight, fc1_mean_bias, fc2_mean_weight, fc2_mean_bias, fc3_mean_weight, fc3_mean_bias = get_averaged_weights(model_dict, number_of_samples=number_of_samples)\n",
        "    with torch.no_grad():\n",
        "        main_model.fc1.weight.data = fc1_mean_weight.data.clone()\n",
        "        main_model.fc2.weight.data = fc2_mean_weight.data.clone()\n",
        "        main_model.fc3.weight.data = fc3_mean_weight.data.clone()\n",
        "\n",
        "        main_model.fc1.bias.data = fc1_mean_bias.data.clone()\n",
        "        main_model.fc2.bias.data = fc2_mean_bias.data.clone()\n",
        "        main_model.fc3.bias.data = fc3_mean_bias.data.clone()\n",
        "    return main_model"
      ]
    },
    {
      "cell_type": "code",
      "execution_count": 173,
      "metadata": {
        "id": "f1avLxvHb-rI"
      },
      "outputs": [],
      "source": [
        "def compare_local_and_merged_model_performance(number_of_samples):\n",
        "    accuracy_table=pd.DataFrame(data=np.zeros((number_of_samples,3)), columns=[\"sample\", \"local_ind_model\", \"merged_main_model\"])\n",
        "    for i in range (number_of_samples):\n",
        "\n",
        "        test_ds = TensorDataset(x_test_dict[name_of_x_test_sets[i]], y_test_dict[name_of_y_test_sets[i]])\n",
        "        test_dl = DataLoader(test_ds, batch_size=batch_size * 2)\n",
        "\n",
        "        model=model_dict[name_of_models[i]]\n",
        "        criterion=criterion_dict[name_of_criterions[i]]\n",
        "        optimizer=optimizer_dict[name_of_optimizers[i]]\n",
        "\n",
        "        individual_loss, individual_accuracy = validation(model, test_dl, criterion)\n",
        "        main_loss, main_accuracy =validation(main_model, test_dl, main_criterion )\n",
        "\n",
        "        accuracy_table.loc[i, \"sample\"]=\"sample \"+str(i)\n",
        "        accuracy_table.loc[i, \"local_ind_model\"] = individual_accuracy\n",
        "        accuracy_table.loc[i, \"merged_main_model\"] = main_accuracy\n",
        "\n",
        "    return accuracy_table"
      ]
    },
    {
      "cell_type": "code",
      "execution_count": 174,
      "metadata": {
        "id": "DpNAPB8Cb-rI"
      },
      "outputs": [],
      "source": [
        "def send_main_model_to_nodes_and_update_model_dict(main_model, model_dict, number_of_samples):\n",
        "    with torch.no_grad():\n",
        "        for i in range(number_of_samples):\n",
        "\n",
        "            model_dict[name_of_models[i]].fc1.weight.data =main_model.fc1.weight.data.clone()\n",
        "            model_dict[name_of_models[i]].fc2.weight.data =main_model.fc2.weight.data.clone()\n",
        "            model_dict[name_of_models[i]].fc3.weight.data =main_model.fc3.weight.data.clone()\n",
        "\n",
        "            model_dict[name_of_models[i]].fc1.bias.data =main_model.fc1.bias.data.clone()\n",
        "            model_dict[name_of_models[i]].fc2.bias.data =main_model.fc2.bias.data.clone()\n",
        "            model_dict[name_of_models[i]].fc3.bias.data =main_model.fc3.bias.data.clone()\n",
        "\n",
        "    return model_dict"
      ]
    },
    {
      "cell_type": "code",
      "execution_count": 175,
      "metadata": {
        "id": "vHE39Etdb-rI"
      },
      "outputs": [],
      "source": [
        "def start_train_end_node_process(number_of_samples):\n",
        "    for i in range (number_of_samples):\n",
        "\n",
        "        train_ds = TensorDataset(x_train_dict[name_of_x_train_sets[i]], y_train_dict[name_of_y_train_sets[i]])\n",
        "        train_dl = DataLoader(train_ds, batch_size=batch_size, shuffle=True)\n",
        "\n",
        "#         valid_ds = TensorDataset(x_valid_dict[name_of_x_valid_sets[i]], y_valid_dict[name_of_y_valid_sets[i]])\n",
        "#         valid_dl = DataLoader(valid_ds, batch_size=batch_size * 2)\n",
        "\n",
        "        test_ds = TensorDataset(x_test_dict[name_of_x_test_sets[i]], y_test_dict[name_of_y_test_sets[i]])\n",
        "        test_dl = DataLoader(test_ds, batch_size= batch_size * 2)\n",
        "\n",
        "        model=model_dict[name_of_models[i]]\n",
        "        criterion=criterion_dict[name_of_criterions[i]]\n",
        "        optimizer=optimizer_dict[name_of_optimizers[i]]\n",
        "\n",
        "        print(\"Subset\" ,i)\n",
        "        for epoch in range(numEpoch):\n",
        "            train_loss, train_accuracy = train(model, train_dl, criterion, optimizer)\n",
        "#             valid_loss, valid_accuracy = validation(model, valid_dl, criterion)\n",
        "            test_loss, test_accuracy = validation(model, test_dl, criterion)\n",
        "\n",
        "            print(\"epoch: {:3.0f}\".format(epoch+1) + \" | train accuracy: {:7.5f}\".format(train_accuracy) + \" | test accuracy: {:7.5f}\".format(test_accuracy))"
      ]
    },
    {
      "cell_type": "code",
      "execution_count": 176,
      "metadata": {
        "id": "SMvdApTwb-rI"
      },
      "outputs": [],
      "source": [
        "\n",
        "def start_train_end_node_process_without_print(number_of_samples):\n",
        "    for i in range (number_of_samples):\n",
        "\n",
        "        train_ds = TensorDataset(x_train_dict[name_of_x_train_sets[i]], y_train_dict[name_of_y_train_sets[i]])\n",
        "        train_dl = DataLoader(train_ds, batch_size=batch_size, shuffle=True)\n",
        "\n",
        "        test_ds = TensorDataset(x_test_dict[name_of_x_test_sets[i]], y_test_dict[name_of_y_test_sets[i]])\n",
        "        test_dl = DataLoader(test_ds, batch_size= batch_size * 2)\n",
        "\n",
        "        model=model_dict[name_of_models[i]]\n",
        "        criterion=criterion_dict[name_of_criterions[i]]\n",
        "        optimizer=optimizer_dict[name_of_optimizers[i]]\n",
        "\n",
        "        for epoch in range(numEpoch):\n",
        "            train_loss, train_accuracy = train(model, train_dl, criterion, optimizer)\n",
        "            test_loss, test_accuracy = validation(model, test_dl, criterion)"
      ]
    },
    {
      "cell_type": "code",
      "execution_count": 177,
      "metadata": {
        "id": "HiRotRnfb-rI"
      },
      "outputs": [],
      "source": [
        "def start_train_end_node_process_print_some(number_of_samples, print_amount):\n",
        "    for i in range (number_of_samples):\n",
        "\n",
        "        train_ds = TensorDataset(x_train_dict[name_of_x_train_sets[i]], y_train_dict[name_of_y_train_sets[i]])\n",
        "        train_dl = DataLoader(train_ds, batch_size=batch_size, shuffle=True)\n",
        "\n",
        "        test_ds = TensorDataset(x_test_dict[name_of_x_test_sets[i]], y_test_dict[name_of_y_test_sets[i]])\n",
        "        test_dl = DataLoader(test_ds, batch_size= batch_size * 2)\n",
        "\n",
        "        model=model_dict[name_of_models[i]]\n",
        "        criterion=criterion_dict[name_of_criterions[i]]\n",
        "        optimizer=optimizer_dict[name_of_optimizers[i]]\n",
        "\n",
        "        if i<print_amount:\n",
        "            print(\"Subset\" ,i)\n",
        "\n",
        "        for epoch in range(numEpoch):\n",
        "\n",
        "            train_loss, train_accuracy = train(model, train_dl, criterion, optimizer)\n",
        "            test_loss, test_accuracy = validation(model, test_dl, criterion)\n",
        "\n",
        "            if i<print_amount:\n",
        "                print(\"epoch: {:3.0f}\".format(epoch+1) + \" | train accuracy: {:7.5f}\".format(train_accuracy) + \" | test accuracy: {:7.5f}\".format(test_accuracy))"
      ]
    },
    {
      "cell_type": "code",
      "execution_count": 178,
      "metadata": {
        "id": "KnHLg6VVb-rI"
      },
      "outputs": [],
      "source": [
        "x_train, y_train, x_valid, y_valid,x_test, y_test = map(torch.tensor, (x_train, y_train, x_valid, y_valid, x_test, y_test))\n",
        "number_of_samples=100\n",
        "learning_rate = 0.01\n",
        "numEpoch = 10\n",
        "batch_size = 32\n",
        "momentum = 0.9\n",
        "\n",
        "train_amount=4500\n",
        "valid_amount=900\n",
        "test_amount=900\n",
        "print_amount=3"
      ]
    },
    {
      "cell_type": "markdown",
      "metadata": {
        "id": "gFtwr06Fb-rJ"
      },
      "source": [
        "----------------\n",
        "\n",
        "### <span style=\"background-color:#F087F9\"> Let's examine what would the performance of the centralized model be if the data were not distributed to nodes at all? </span>   \n",
        "\n",
        "The model used in this example is very simple, different things can be done to improve model performance, such as using more complex models, increasing epoch or hyperparameter tuning. However, the purpose here is to compare the performance of the main model that is formed by combining the parameters of the local models trained on their own data with a centralized model that trained on all training data. In this way, we can gain insight into the capacity of federated learning.\n"
      ]
    },
    {
      "cell_type": "code",
      "execution_count": 180,
      "metadata": {
        "id": "X0_Lgv3sb-rJ"
      },
      "outputs": [],
      "source": [
        "centralized_model = Net2nn()\n",
        "centralized_optimizer = torch.optim.SGD(centralized_model.parameters(), lr=0.01, momentum=0.9)\n",
        "centralized_criterion = nn.CrossEntropyLoss()"
      ]
    },
    {
      "cell_type": "code",
      "execution_count": 181,
      "metadata": {
        "id": "qtXTYFDEb-rJ"
      },
      "outputs": [],
      "source": [
        "train_ds = TensorDataset(x_train, y_train)\n",
        "train_dl = DataLoader(train_ds, batch_size=batch_size, shuffle=True)\n",
        "\n",
        "valid_ds = TensorDataset(x_valid, y_valid)\n",
        "valid_dl = DataLoader(valid_ds, batch_size=batch_size * 2)\n",
        "\n",
        "test_ds = TensorDataset(x_test, y_test)\n",
        "test_dl = DataLoader(test_ds, batch_size=batch_size * 2)"
      ]
    },
    {
      "cell_type": "code",
      "execution_count": 182,
      "metadata": {
        "id": "SJZqWnH7b-rJ",
        "outputId": "a18d5574-7a97-4c8c-9c26-519898b86b4c",
        "colab": {
          "base_uri": "https://localhost:8080/"
        }
      },
      "outputs": [
        {
          "output_type": "stream",
          "name": "stdout",
          "text": [
            "------ Centralized Model ------\n",
            "epoch:   1 | train accuracy:  0.8750 | test accuracy:  0.9495\n",
            "epoch:   2 | train accuracy:  0.9578 | test accuracy:  0.9665\n",
            "epoch:   3 | train accuracy:  0.9712 | test accuracy:  0.9717\n",
            "epoch:   4 | train accuracy:  0.9789 | test accuracy:  0.9718\n",
            "epoch:   5 | train accuracy:  0.9833 | test accuracy:  0.9763\n",
            "epoch:   6 | train accuracy:  0.9874 | test accuracy:  0.9782\n",
            "epoch:   7 | train accuracy:  0.9897 | test accuracy:  0.9774\n",
            "epoch:   8 | train accuracy:  0.9916 | test accuracy:  0.9784\n",
            "epoch:   9 | train accuracy:  0.9941 | test accuracy:  0.9812\n",
            "epoch:  10 | train accuracy:  0.9958 | test accuracy:  0.9805\n",
            "------ Training finished ------\n"
          ]
        }
      ],
      "source": [
        "print(\"------ Centralized Model ------\")\n",
        "for epoch in range(numEpoch):\n",
        "    central_train_loss, central_train_accuracy = train(centralized_model, train_dl, centralized_criterion, centralized_optimizer)\n",
        "    central_test_loss, central_test_accuracy = validation(centralized_model, test_dl, centralized_criterion)\n",
        "\n",
        "    print(\"epoch: {:3.0f}\".format(epoch+1) + \" | train accuracy: {:7.4f}\".format(central_train_accuracy) + \" | test accuracy: {:7.4f}\".format(central_test_accuracy))\n",
        "\n",
        "print(\"------ Training finished ------\")"
      ]
    },
    {
      "cell_type": "markdown",
      "metadata": {
        "id": "92hibjghb-rJ"
      },
      "source": [
        "\n",
        "----------------\n",
        "-----------------\n",
        "**Data is distributed to nodes**\n",
        "\n",
        "<!-- ### <span style=\"background-color:#F087F9\"> Datanın nodelara dağıtılması </span>    -->"
      ]
    },
    {
      "cell_type": "code",
      "execution_count": 183,
      "metadata": {
        "id": "OGcJb8vZb-rJ"
      },
      "outputs": [],
      "source": [
        "label_dict_train=split_and_shuffle_labels(y_data=y_train, seed=1, amount=train_amount)\n",
        "sample_dict_train=get_iid_subsamples_indices(label_dict=label_dict_train, number_of_samples=number_of_samples, amount=train_amount)\n",
        "x_train_dict, y_train_dict = create_iid_subsamples(sample_dict=sample_dict_train, x_data=x_train, y_data=y_train, x_name=\"x_train\", y_name=\"y_train\")\n",
        "\n",
        "\n",
        "label_dict_valid = split_and_shuffle_labels(y_data=y_valid, seed=1, amount=train_amount)\n",
        "sample_dict_valid = get_iid_subsamples_indices(label_dict=label_dict_valid, number_of_samples=number_of_samples, amount=valid_amount)\n",
        "x_valid_dict, y_valid_dict = create_iid_subsamples(sample_dict=sample_dict_valid, x_data=x_valid, y_data=y_valid, x_name=\"x_valid\", y_name=\"y_valid\")\n",
        "\n",
        "label_dict_test = split_and_shuffle_labels(y_data=y_test, seed=1, amount=test_amount)\n",
        "sample_dict_test = get_iid_subsamples_indices(label_dict=label_dict_test, number_of_samples=number_of_samples, amount=test_amount)\n",
        "x_test_dict, y_test_dict = create_iid_subsamples(sample_dict=sample_dict_test, x_data=x_test, y_data=y_test, x_name=\"x_test\", y_name=\"y_test\")"
      ]
    },
    {
      "cell_type": "code",
      "execution_count": 184,
      "metadata": {
        "id": "dLAzi6xwb-rJ",
        "outputId": "b3eaf6aa-e058-4cf3-dbf5-c55d63d7664d",
        "colab": {
          "base_uri": "https://localhost:8080/",
          "height": 499
        }
      },
      "outputs": [
        {
          "output_type": "stream",
          "name": "stdout",
          "text": [
            "torch.Size([450, 784]) torch.Size([450])\n",
            "torch.Size([90, 784]) torch.Size([90])\n",
            "torch.Size([90, 784]) torch.Size([90])\n",
            "tensor(1)\n"
          ]
        },
        {
          "output_type": "display_data",
          "data": {
            "text/plain": [
              "<Figure size 640x480 with 1 Axes>"
            ],
            "image/png": "[encoded data removed]"
          },
          "metadata": {}
        }
      ],
      "source": [
        "print(x_train_dict[\"x_train1\"].shape, y_train_dict[\"y_train1\"].shape)\n",
        "print(x_valid_dict[\"x_valid1\"].shape, y_valid_dict[\"y_valid1\"].shape)\n",
        "print(x_test_dict[\"x_test1\"].shape, y_test_dict[\"y_test1\"].shape)\n",
        "\n",
        "num_index = np.random.randint(test_amount/number_of_samples*10)\n",
        "pyplot.imshow(x_test_dict[\"x_test0\"][num_index].reshape((28,28)), cmap=\"gray\")\n",
        "print(y_test_dict[\"y_test0\"][num_index])"
      ]
    },
    {
      "cell_type": "markdown",
      "metadata": {
        "id": "crNdqH0Ub-rJ"
      },
      "source": [
        "**Main model is created**"
      ]
    },
    {
      "cell_type": "code",
      "execution_count": 185,
      "metadata": {
        "id": "Na-s8aXab-rJ"
      },
      "outputs": [],
      "source": [
        "main_model = Net2nn()\n",
        "main_optimizer = torch.optim.SGD(main_model.parameters(), lr=learning_rate, momentum=0.9)\n",
        "main_criterion = nn.CrossEntropyLoss()"
      ]
    },
    {
      "cell_type": "markdown",
      "metadata": {
        "id": "o_4aM3ycb-rJ"
      },
      "source": [
        "**Models,optimizers and loss functions in nodes are defined**"
      ]
    },
    {
      "cell_type": "code",
      "execution_count": 186,
      "metadata": {
        "id": "vNxT_MJbb-rJ"
      },
      "outputs": [],
      "source": [
        "model_dict, optimizer_dict, criterion_dict = create_model_optimizer_criterion_dict(number_of_samples)"
      ]
    },
    {
      "cell_type": "markdown",
      "metadata": {
        "id": "ExVaUpNob-rJ"
      },
      "source": [
        "**Keys of dicts are being made iterable**"
      ]
    },
    {
      "cell_type": "code",
      "execution_count": 187,
      "metadata": {
        "id": "me2wLfnEb-rK"
      },
      "outputs": [],
      "source": [
        "name_of_x_train_sets=list(x_train_dict.keys())\n",
        "name_of_y_train_sets=list(y_train_dict.keys())\n",
        "name_of_x_valid_sets=list(x_valid_dict.keys())\n",
        "name_of_y_valid_sets=list(y_valid_dict.keys())\n",
        "name_of_x_test_sets=list(x_test_dict.keys())\n",
        "name_of_y_test_sets=list(y_test_dict.keys())\n",
        "\n",
        "name_of_models=list(model_dict.keys())\n",
        "name_of_optimizers=list(optimizer_dict.keys())\n",
        "name_of_criterions=list(criterion_dict.keys())\n",
        "\n",
        "# print(name_of_x_train_sets)\n",
        "# print(name_of_y_train_sets)\n",
        "# print(name_of_x_valid_sets)\n",
        "# print(name_of_y_valid_sets)\n",
        "# print(name_of_x_test_sets)\n",
        "# print(name_of_y_test_sets)\n",
        "# print(\"\\n ------------\")\n",
        "# print(name_of_models)\n",
        "# print(name_of_optimizers)\n",
        "# print(name_of_criterions)"
      ]
    },
    {
      "cell_type": "code",
      "execution_count": 188,
      "metadata": {
        "id": "crKbi1m4b-rN",
        "outputId": "19b09672-4d70-4df9-b44e-ca9e1fad7bc0",
        "colab": {
          "base_uri": "https://localhost:8080/"
        }
      },
      "outputs": [
        {
          "output_type": "stream",
          "name": "stdout",
          "text": [
            "tensor([[ 0.0212, -0.0470,  0.0231, -0.0399, -0.0121]],\n",
            "       grad_fn=<SliceBackward0>)\n",
            "tensor([[ 0.0355, -0.0176,  0.0311,  0.0486,  0.0355]],\n",
            "       grad_fn=<SliceBackward0>)\n"
          ]
        }
      ],
      "source": [
        "print(main_model.fc2.weight[0:1,0:5])\n",
        "print(model_dict[\"model1\"].fc2.weight[0:1,0:5])"
      ]
    },
    {
      "cell_type": "markdown",
      "metadata": {
        "id": "uFK1nybzb-rN"
      },
      "source": [
        "**Parameters of main model are sent to nodes**  \n",
        "Since the parameters of the main model and parameters of all local models in the nodes are randomly initialized, all these parameters will be different from each other. For this reason, the main model sends its parameters to the nodes before the training of local models in the nodes begins. You can check the weights below."
      ]
    },
    {
      "cell_type": "code",
      "execution_count": 189,
      "metadata": {
        "id": "RktRkcETb-rN"
      },
      "outputs": [],
      "source": [
        "model_dict=send_main_model_to_nodes_and_update_model_dict(main_model, model_dict, number_of_samples)"
      ]
    },
    {
      "cell_type": "code",
      "execution_count": 190,
      "metadata": {
        "id": "wziNWRkJb-rO",
        "outputId": "7a8a2a6d-ea6a-400d-9192-a94a76a9b356",
        "colab": {
          "base_uri": "https://localhost:8080/"
        }
      },
      "outputs": [
        {
          "output_type": "stream",
          "name": "stdout",
          "text": [
            "tensor([[ 0.0212, -0.0470,  0.0231, -0.0399, -0.0121]],\n",
            "       grad_fn=<SliceBackward0>)\n",
            "tensor([[ 0.0212, -0.0470,  0.0231, -0.0399, -0.0121]],\n",
            "       grad_fn=<SliceBackward0>)\n"
          ]
        }
      ],
      "source": [
        "print(main_model.fc2.weight[0:1,0:5])\n",
        "print(model_dict[\"model1\"].fc2.weight[0:1,0:5])"
      ]
    },
    {
      "cell_type": "markdown",
      "metadata": {
        "id": "Vq6cQ1oTb-rO"
      },
      "source": [
        "**Models in the nodes are trained**"
      ]
    },
    {
      "cell_type": "code",
      "execution_count": 191,
      "metadata": {
        "id": "_W1eP2xdb-rO",
        "outputId": "91c2e8fa-490b-43eb-8eb4-01f6b1233754",
        "colab": {
          "base_uri": "https://localhost:8080/"
        }
      },
      "outputs": [
        {
          "output_type": "stream",
          "name": "stdout",
          "text": [
            "Subset 0\n",
            "epoch:   1 | train accuracy: 0.10000 | test accuracy: 0.10000\n",
            "epoch:   2 | train accuracy: 0.13556 | test accuracy: 0.20000\n",
            "epoch:   3 | train accuracy: 0.36889 | test accuracy: 0.44444\n",
            "epoch:   4 | train accuracy: 0.43111 | test accuracy: 0.48889\n",
            "epoch:   5 | train accuracy: 0.60444 | test accuracy: 0.70000\n",
            "epoch:   6 | train accuracy: 0.68667 | test accuracy: 0.75556\n",
            "epoch:   7 | train accuracy: 0.71556 | test accuracy: 0.77778\n",
            "epoch:   8 | train accuracy: 0.76667 | test accuracy: 0.80000\n",
            "epoch:   9 | train accuracy: 0.81556 | test accuracy: 0.85556\n",
            "epoch:  10 | train accuracy: 0.83111 | test accuracy: 0.84444\n",
            "Subset 1\n",
            "epoch:   1 | train accuracy: 0.10222 | test accuracy: 0.17778\n",
            "epoch:   2 | train accuracy: 0.25778 | test accuracy: 0.26667\n",
            "epoch:   3 | train accuracy: 0.36444 | test accuracy: 0.48889\n",
            "epoch:   4 | train accuracy: 0.52667 | test accuracy: 0.57778\n",
            "epoch:   5 | train accuracy: 0.61556 | test accuracy: 0.70000\n",
            "epoch:   6 | train accuracy: 0.73111 | test accuracy: 0.68889\n",
            "epoch:   7 | train accuracy: 0.73111 | test accuracy: 0.71111\n",
            "epoch:   8 | train accuracy: 0.79556 | test accuracy: 0.73333\n",
            "epoch:   9 | train accuracy: 0.81778 | test accuracy: 0.75556\n",
            "epoch:  10 | train accuracy: 0.85556 | test accuracy: 0.81111\n",
            "Subset 2\n",
            "epoch:   1 | train accuracy: 0.11111 | test accuracy: 0.22222\n",
            "epoch:   2 | train accuracy: 0.29556 | test accuracy: 0.41111\n",
            "epoch:   3 | train accuracy: 0.48222 | test accuracy: 0.51111\n",
            "epoch:   4 | train accuracy: 0.62222 | test accuracy: 0.58889\n",
            "epoch:   5 | train accuracy: 0.62667 | test accuracy: 0.53333\n",
            "epoch:   6 | train accuracy: 0.58667 | test accuracy: 0.65556\n",
            "epoch:   7 | train accuracy: 0.68444 | test accuracy: 0.57778\n",
            "epoch:   8 | train accuracy: 0.75556 | test accuracy: 0.65556\n",
            "epoch:   9 | train accuracy: 0.79333 | test accuracy: 0.68889\n",
            "epoch:  10 | train accuracy: 0.82667 | test accuracy: 0.72222\n"
          ]
        }
      ],
      "source": [
        "# start_train_end_node_process()\n",
        "start_train_end_node_process_print_some(number_of_samples, print_amount)"
      ]
    },
    {
      "cell_type": "code",
      "execution_count": 192,
      "metadata": {
        "id": "roV2yqXTb-rO",
        "outputId": "7114b6af-5eb9-4c51-8d3b-df2294a30e0f",
        "colab": {
          "base_uri": "https://localhost:8080/"
        }
      },
      "outputs": [
        {
          "output_type": "stream",
          "name": "stdout",
          "text": [
            "tensor([ 0.0212, -0.0470,  0.0231, -0.0399, -0.0121], grad_fn=<SliceBackward0>)\n",
            "tensor([ 0.0295, -0.0663,  0.0150, -0.0381, -0.0237], grad_fn=<SliceBackward0>)\n"
          ]
        }
      ],
      "source": [
        "## As you can see, wieghts of local models are updated after training process\n",
        "print(main_model.fc2.weight[0,0:5])\n",
        "print(model_dict[\"model1\"].fc2.weight[0,0:5])"
      ]
    },
    {
      "cell_type": "markdown",
      "metadata": {
        "id": "mCueX3OBb-rO"
      },
      "source": [
        "### Let's compare the performance of federated main model, individual local models and centralized model  \n",
        "\n",
        "**Federated main model vs individual local models before 1st iteration (on distributed test set)**  \n",
        "Since main model is randomly initialized and no action taken on it yet, its performance is very poor. Please before_acc_table"
      ]
    },
    {
      "cell_type": "code",
      "execution_count": 193,
      "metadata": {
        "id": "jky4UQK0b-rO"
      },
      "outputs": [],
      "source": [
        "before_acc_table=compare_local_and_merged_model_performance(number_of_samples=number_of_samples)\n",
        "before_test_loss, before_test_accuracy = validation(main_model, test_dl, main_criterion)\n",
        "\n",
        "main_model= set_averaged_weights_as_main_model_weights_and_update_main_model(main_model,model_dict, number_of_samples)\n",
        "\n",
        "after_acc_table=compare_local_and_merged_model_performance(number_of_samples=number_of_samples)\n",
        "after_test_loss, after_test_accuracy = validation(main_model, test_dl, main_criterion)"
      ]
    },
    {
      "cell_type": "code",
      "execution_count": 194,
      "metadata": {
        "id": "yf8bFtCmb-rO",
        "outputId": "bf724bb6-01ba-43e7-ebde-4134d2015a8e",
        "colab": {
          "base_uri": "https://localhost:8080/",
          "height": 223
        }
      },
      "outputs": [
        {
          "output_type": "stream",
          "name": "stdout",
          "text": [
            "Federated main model vs individual local models before FedAvg first iteration\n"
          ]
        },
        {
          "output_type": "execute_result",
          "data": {
            "text/plain": [
              "     sample  local_ind_model  merged_main_model\n",
              "0  sample 0           0.8444             0.1000\n",
              "1  sample 1           0.8111             0.1000\n",
              "2  sample 2           0.7222             0.1000\n",
              "3  sample 3           0.7556             0.1000\n",
              "4  sample 4           0.7778             0.0778"
            ],
            "text/html": [
              "\n",
              "  <div id=\"df-3448c574-e5f3-4e79-a16e-7c6961c51f37\" class=\"colab-df-container\">\n",
              "    <div>\n",
              "<style scoped>\n",
              "    .dataframe tbody tr th:only-of-type {\n",
              "        vertical-align: middle;\n",
              "    }\n",
              "\n",
              "    .dataframe tbody tr th {\n",
              "        vertical-align: top;\n",
              "    }\n",
              "\n",
              "    .dataframe thead th {\n",
              "        text-align: right;\n",
              "    }\n",
              "</style>\n",
              "<table border=\"1\" class=\"dataframe\">\n",
              "  <thead>\n",
              "    <tr style=\"text-align: right;\">\n",
              "      <th></th>\n",
              "      <th>sample</th>\n",
              "      <th>local_ind_model</th>\n",
              "      <th>merged_main_model</th>\n",
              "    </tr>\n",
              "  </thead>\n",
              "  <tbody>\n",
              "    <tr>\n",
              "      <th>0</th>\n",
              "      <td>sample 0</td>\n",
              "      <td>0.8444</td>\n",
              "      <td>0.1000</td>\n",
              "    </tr>\n",
              "    <tr>\n",
              "      <th>1</th>\n",
              "      <td>sample 1</td>\n",
              "      <td>0.8111</td>\n",
              "      <td>0.1000</td>\n",
              "    </tr>\n",
              "    <tr>\n",
              "      <th>2</th>\n",
              "      <td>sample 2</td>\n",
              "      <td>0.7222</td>\n",
              "      <td>0.1000</td>\n",
              "    </tr>\n",
              "    <tr>\n",
              "      <th>3</th>\n",
              "      <td>sample 3</td>\n",
              "      <td>0.7556</td>\n",
              "      <td>0.1000</td>\n",
              "    </tr>\n",
              "    <tr>\n",
              "      <th>4</th>\n",
              "      <td>sample 4</td>\n",
              "      <td>0.7778</td>\n",
              "      <td>0.0778</td>\n",
              "    </tr>\n",
              "  </tbody>\n",
              "</table>\n",
              "</div>\n",
              "    <div class=\"colab-df-buttons\">\n",
              "\n",
              "  <div class=\"colab-df-container\">\n",
              "    <button class=\"colab-df-convert\" onclick=\"convertToInteractive('df-3448c574-e5f3-4e79-a16e-7c6961c51f37')\"\n",
              "            title=\"Convert this dataframe to an interactive table.\"\n",
              "            style=\"display:none;\">\n",
              "\n",
              "  <svg xmlns=\"http://www.w3.org/2000/svg\" height=\"24px\" viewBox=\"0 -960 960 960\">\n",
              "    <path d=\"M120-120v-720h720v720H120Zm60-500h600v-160H180v160Zm220 220h160v-160H400v160Zm0 220h160v-160H400v160ZM180-400h160v-160H180v160Zm440 0h160v-160H620v160ZM180-180h160v-160H180v160Zm440 0h160v-160H620v160Z\"/>\n",
              "  </svg>\n",
              "    </button>\n",
              "\n",
              "  <style>\n",
              "    .colab-df-container {\n",
              "      display:flex;\n",
              "      gap: 12px;\n",
              "    }\n",
              "\n",
              "    .colab-df-convert {\n",
              "      background-color: #E8F0FE;\n",
              "      border: none;\n",
              "      border-radius: 50%;\n",
              "      cursor: pointer;\n",
              "      display: none;\n",
              "      fill: #1967D2;\n",
              "      height: 32px;\n",
              "      padding: 0 0 0 0;\n",
              "      width: 32px;\n",
              "    }\n",
              "\n",
              "    .colab-df-convert:hover {\n",
              "      background-color: #E2EBFA;\n",
              "      box-shadow: 0px 1px 2px rgba(60, 64, 67, 0.3), 0px 1px 3px 1px rgba(60, 64, 67, 0.15);\n",
              "      fill: #174EA6;\n",
              "    }\n",
              "\n",
              "    .colab-df-buttons div {\n",
              "      margin-bottom: 4px;\n",
              "    }\n",
              "\n",
              "    [theme=dark] .colab-df-convert {\n",
              "      background-color: #3B4455;\n",
              "      fill: #D2E3FC;\n",
              "    }\n",
              "\n",
              "    [theme=dark] .colab-df-convert:hover {\n",
              "      background-color: #434B5C;\n",
              "      box-shadow: 0px 1px 3px 1px rgba(0, 0, 0, 0.15);\n",
              "      filter: drop-shadow(0px 1px 2px rgba(0, 0, 0, 0.3));\n",
              "      fill: #FFFFFF;\n",
              "    }\n",
              "  </style>\n",
              "\n",
              "    <script>\n",
              "      const buttonEl =\n",
              "        document.querySelector('#df-3448c574-e5f3-4e79-a16e-7c6961c51f37 button.colab-df-convert');\n",
              "      buttonEl.style.display =\n",
              "        google.colab.kernel.accessAllowed ? 'block' : 'none';\n",
              "\n",
              "      async function convertToInteractive(key) {\n",
              "        const element = document.querySelector('#df-3448c574-e5f3-4e79-a16e-7c6961c51f37');\n",
              "        const dataTable =\n",
              "          await google.colab.kernel.invokeFunction('convertToInteractive',\n",
              "                                                    [key], {});\n",
              "        if (!dataTable) return;\n",
              "\n",
              "        const docLinkHtml = 'Like what you see? Visit the ' +\n",
              "          '<a target=\"_blank\" href=https://colab.research.google.com/notebooks/data_table.ipynb>data table notebook</a>'\n",
              "          + ' to learn more about interactive tables.';\n",
              "        element.innerHTML = '';\n",
              "        dataTable['output_type'] = 'display_data';\n",
              "        await google.colab.output.renderOutput(dataTable, element);\n",
              "        const docLink = document.createElement('div');\n",
              "        docLink.innerHTML = docLinkHtml;\n",
              "        element.appendChild(docLink);\n",
              "      }\n",
              "    </script>\n",
              "  </div>\n",
              "\n",
              "\n",
              "<div id=\"df-82872027-e0cf-49d6-8638-07ccc98897cc\">\n",
              "  <button class=\"colab-df-quickchart\" onclick=\"quickchart('df-82872027-e0cf-49d6-8638-07ccc98897cc')\"\n",
              "            title=\"Suggest charts\"\n",
              "            style=\"display:none;\">\n",
              "\n",
              "<svg xmlns=\"http://www.w3.org/2000/svg\" height=\"24px\"viewBox=\"0 0 24 24\"\n",
              "     width=\"24px\">\n",
              "    <g>\n",
              "        <path d=\"M19 3H5c-1.1 0-2 .9-2 2v14c0 1.1.9 2 2 2h14c1.1 0 2-.9 2-2V5c0-1.1-.9-2-2-2zM9 17H7v-7h2v7zm4 0h-2V7h2v10zm4 0h-2v-4h2v4z\"/>\n",
              "    </g>\n",
              "</svg>\n",
              "  </button>\n",
              "\n",
              "<style>\n",
              "  .colab-df-quickchart {\n",
              "      --bg-color: #E8F0FE;\n",
              "      --fill-color: #1967D2;\n",
              "      --hover-bg-color: #E2EBFA;\n",
              "      --hover-fill-color: #174EA6;\n",
              "      --disabled-fill-color: #AAA;\n",
              "      --disabled-bg-color: #DDD;\n",
              "  }\n",
              "\n",
              "  [theme=dark] .colab-df-quickchart {\n",
              "      --bg-color: #3B4455;\n",
              "      --fill-color: #D2E3FC;\n",
              "      --hover-bg-color: #434B5C;\n",
              "      --hover-fill-color: #FFFFFF;\n",
              "      --disabled-bg-color: #3B4455;\n",
              "      --disabled-fill-color: #666;\n",
              "  }\n",
              "\n",
              "  .colab-df-quickchart {\n",
              "    background-color: var(--bg-color);\n",
              "    border: none;\n",
              "    border-radius: 50%;\n",
              "    cursor: pointer;\n",
              "    display: none;\n",
              "    fill: var(--fill-color);\n",
              "    height: 32px;\n",
              "    padding: 0;\n",
              "    width: 32px;\n",
              "  }\n",
              "\n",
              "  .colab-df-quickchart:hover {\n",
              "    background-color: var(--hover-bg-color);\n",
              "    box-shadow: 0 1px 2px rgba(60, 64, 67, 0.3), 0 1px 3px 1px rgba(60, 64, 67, 0.15);\n",
              "    fill: var(--button-hover-fill-color);\n",
              "  }\n",
              "\n",
              "  .colab-df-quickchart-complete:disabled,\n",
              "  .colab-df-quickchart-complete:disabled:hover {\n",
              "    background-color: var(--disabled-bg-color);\n",
              "    fill: var(--disabled-fill-color);\n",
              "    box-shadow: none;\n",
              "  }\n",
              "\n",
              "  .colab-df-spinner {\n",
              "    border: 2px solid var(--fill-color);\n",
              "    border-color: transparent;\n",
              "    border-bottom-color: var(--fill-color);\n",
              "    animation:\n",
              "      spin 1s steps(1) infinite;\n",
              "  }\n",
              "\n",
              "  @keyframes spin {\n",
              "    0% {\n",
              "      border-color: transparent;\n",
              "      border-bottom-color: var(--fill-color);\n",
              "      border-left-color: var(--fill-color);\n",
              "    }\n",
              "    20% {\n",
              "      border-color: transparent;\n",
              "      border-left-color: var(--fill-color);\n",
              "      border-top-color: var(--fill-color);\n",
              "    }\n",
              "    30% {\n",
              "      border-color: transparent;\n",
              "      border-left-color: var(--fill-color);\n",
              "      border-top-color: var(--fill-color);\n",
              "      border-right-color: var(--fill-color);\n",
              "    }\n",
              "    40% {\n",
              "      border-color: transparent;\n",
              "      border-right-color: var(--fill-color);\n",
              "      border-top-color: var(--fill-color);\n",
              "    }\n",
              "    60% {\n",
              "      border-color: transparent;\n",
              "      border-right-color: var(--fill-color);\n",
              "    }\n",
              "    80% {\n",
              "      border-color: transparent;\n",
              "      border-right-color: var(--fill-color);\n",
              "      border-bottom-color: var(--fill-color);\n",
              "    }\n",
              "    90% {\n",
              "      border-color: transparent;\n",
              "      border-bottom-color: var(--fill-color);\n",
              "    }\n",
              "  }\n",
              "</style>\n",
              "\n",
              "  <script>\n",
              "    async function quickchart(key) {\n",
              "      const quickchartButtonEl =\n",
              "        document.querySelector('#' + key + ' button');\n",
              "      quickchartButtonEl.disabled = true;  // To prevent multiple clicks.\n",
              "      quickchartButtonEl.classList.add('colab-df-spinner');\n",
              "      try {\n",
              "        const charts = await google.colab.kernel.invokeFunction(\n",
              "            'suggestCharts', [key], {});\n",
              "      } catch (error) {\n",
              "        console.error('Error during call to suggestCharts:', error);\n",
              "      }\n",
              "      quickchartButtonEl.classList.remove('colab-df-spinner');\n",
              "      quickchartButtonEl.classList.add('colab-df-quickchart-complete');\n",
              "    }\n",
              "    (() => {\n",
              "      let quickchartButtonEl =\n",
              "        document.querySelector('#df-82872027-e0cf-49d6-8638-07ccc98897cc button');\n",
              "      quickchartButtonEl.style.display =\n",
              "        google.colab.kernel.accessAllowed ? 'block' : 'none';\n",
              "    })();\n",
              "  </script>\n",
              "</div>\n",
              "    </div>\n",
              "  </div>\n"
            ],
            "application/vnd.google.colaboratory.intrinsic+json": {
              "type": "dataframe",
              "variable_name": "before_acc_table",
              "summary": "{\n  \"name\": \"before_acc_table\",\n  \"rows\": 100,\n  \"fields\": [\n    {\n      \"column\": \"sample\",\n      \"properties\": {\n        \"dtype\": \"string\",\n        \"num_unique_values\": 100,\n        \"samples\": [\n          \"sample 83\",\n          \"sample 53\",\n          \"sample 70\"\n        ],\n        \"semantic_type\": \"\",\n        \"description\": \"\"\n      }\n    },\n    {\n      \"column\": \"local_ind_model\",\n      \"properties\": {\n        \"dtype\": \"number\",\n        \"std\": 0.042318099858999696,\n        \"min\": 0.6666666666666666,\n        \"max\": 0.9,\n        \"num_unique_values\": 20,\n        \"samples\": [\n          0.8444444444444444,\n          0.9,\n          0.8888888888888888\n        ],\n        \"semantic_type\": \"\",\n        \"description\": \"\"\n      }\n    },\n    {\n      \"column\": \"merged_main_model\",\n      \"properties\": {\n        \"dtype\": \"number\",\n        \"std\": 0.004777314811598728,\n        \"min\": 0.07777777777777778,\n        \"max\": 0.10975609756097561,\n        \"num_unique_values\": 4,\n        \"samples\": [\n          0.07777777777777778,\n          0.10975609756097561,\n          0.1\n        ],\n        \"semantic_type\": \"\",\n        \"description\": \"\"\n      }\n    }\n  ]\n}"
            }
          },
          "metadata": {},
          "execution_count": 194
        }
      ],
      "source": [
        "print(\"Federated main model vs individual local models before FedAvg first iteration\")\n",
        "before_acc_table.head()"
      ]
    },
    {
      "cell_type": "code",
      "execution_count": 195,
      "metadata": {
        "id": "qC7_h5uub-rO",
        "outputId": "0446f029-ff46-4a4e-a391-4f98d9fa876d",
        "colab": {
          "base_uri": "https://localhost:8080/",
          "height": 223
        }
      },
      "outputs": [
        {
          "output_type": "stream",
          "name": "stdout",
          "text": [
            "Federated main model vs individual local models after FedAvg first iteration\n"
          ]
        },
        {
          "output_type": "execute_result",
          "data": {
            "text/plain": [
              "     sample  local_ind_model  merged_main_model\n",
              "0  sample 0           0.8444             0.8889\n",
              "1  sample 1           0.8111             0.8333\n",
              "2  sample 2           0.7222             0.8111\n",
              "3  sample 3           0.7556             0.8333\n",
              "4  sample 4           0.7778             0.8778"
            ],
            "text/html": [
              "\n",
              "  <div id=\"df-44ebc6fb-ece4-47c4-a58e-8cb949f17281\" class=\"colab-df-container\">\n",
              "    <div>\n",
              "<style scoped>\n",
              "    .dataframe tbody tr th:only-of-type {\n",
              "        vertical-align: middle;\n",
              "    }\n",
              "\n",
              "    .dataframe tbody tr th {\n",
              "        vertical-align: top;\n",
              "    }\n",
              "\n",
              "    .dataframe thead th {\n",
              "        text-align: right;\n",
              "    }\n",
              "</style>\n",
              "<table border=\"1\" class=\"dataframe\">\n",
              "  <thead>\n",
              "    <tr style=\"text-align: right;\">\n",
              "      <th></th>\n",
              "      <th>sample</th>\n",
              "      <th>local_ind_model</th>\n",
              "      <th>merged_main_model</th>\n",
              "    </tr>\n",
              "  </thead>\n",
              "  <tbody>\n",
              "    <tr>\n",
              "      <th>0</th>\n",
              "      <td>sample 0</td>\n",
              "      <td>0.8444</td>\n",
              "      <td>0.8889</td>\n",
              "    </tr>\n",
              "    <tr>\n",
              "      <th>1</th>\n",
              "      <td>sample 1</td>\n",
              "      <td>0.8111</td>\n",
              "      <td>0.8333</td>\n",
              "    </tr>\n",
              "    <tr>\n",
              "      <th>2</th>\n",
              "      <td>sample 2</td>\n",
              "      <td>0.7222</td>\n",
              "      <td>0.8111</td>\n",
              "    </tr>\n",
              "    <tr>\n",
              "      <th>3</th>\n",
              "      <td>sample 3</td>\n",
              "      <td>0.7556</td>\n",
              "      <td>0.8333</td>\n",
              "    </tr>\n",
              "    <tr>\n",
              "      <th>4</th>\n",
              "      <td>sample 4</td>\n",
              "      <td>0.7778</td>\n",
              "      <td>0.8778</td>\n",
              "    </tr>\n",
              "  </tbody>\n",
              "</table>\n",
              "</div>\n",
              "    <div class=\"colab-df-buttons\">\n",
              "\n",
              "  <div class=\"colab-df-container\">\n",
              "    <button class=\"colab-df-convert\" onclick=\"convertToInteractive('df-44ebc6fb-ece4-47c4-a58e-8cb949f17281')\"\n",
              "            title=\"Convert this dataframe to an interactive table.\"\n",
              "            style=\"display:none;\">\n",
              "\n",
              "  <svg xmlns=\"http://www.w3.org/2000/svg\" height=\"24px\" viewBox=\"0 -960 960 960\">\n",
              "    <path d=\"M120-120v-720h720v720H120Zm60-500h600v-160H180v160Zm220 220h160v-160H400v160Zm0 220h160v-160H400v160ZM180-400h160v-160H180v160Zm440 0h160v-160H620v160ZM180-180h160v-160H180v160Zm440 0h160v-160H620v160Z\"/>\n",
              "  </svg>\n",
              "    </button>\n",
              "\n",
              "  <style>\n",
              "    .colab-df-container {\n",
              "      display:flex;\n",
              "      gap: 12px;\n",
              "    }\n",
              "\n",
              "    .colab-df-convert {\n",
              "      background-color: #E8F0FE;\n",
              "      border: none;\n",
              "      border-radius: 50%;\n",
              "      cursor: pointer;\n",
              "      display: none;\n",
              "      fill: #1967D2;\n",
              "      height: 32px;\n",
              "      padding: 0 0 0 0;\n",
              "      width: 32px;\n",
              "    }\n",
              "\n",
              "    .colab-df-convert:hover {\n",
              "      background-color: #E2EBFA;\n",
              "      box-shadow: 0px 1px 2px rgba(60, 64, 67, 0.3), 0px 1px 3px 1px rgba(60, 64, 67, 0.15);\n",
              "      fill: #174EA6;\n",
              "    }\n",
              "\n",
              "    .colab-df-buttons div {\n",
              "      margin-bottom: 4px;\n",
              "    }\n",
              "\n",
              "    [theme=dark] .colab-df-convert {\n",
              "      background-color: #3B4455;\n",
              "      fill: #D2E3FC;\n",
              "    }\n",
              "\n",
              "    [theme=dark] .colab-df-convert:hover {\n",
              "      background-color: #434B5C;\n",
              "      box-shadow: 0px 1px 3px 1px rgba(0, 0, 0, 0.15);\n",
              "      filter: drop-shadow(0px 1px 2px rgba(0, 0, 0, 0.3));\n",
              "      fill: #FFFFFF;\n",
              "    }\n",
              "  </style>\n",
              "\n",
              "    <script>\n",
              "      const buttonEl =\n",
              "        document.querySelector('#df-44ebc6fb-ece4-47c4-a58e-8cb949f17281 button.colab-df-convert');\n",
              "      buttonEl.style.display =\n",
              "        google.colab.kernel.accessAllowed ? 'block' : 'none';\n",
              "\n",
              "      async function convertToInteractive(key) {\n",
              "        const element = document.querySelector('#df-44ebc6fb-ece4-47c4-a58e-8cb949f17281');\n",
              "        const dataTable =\n",
              "          await google.colab.kernel.invokeFunction('convertToInteractive',\n",
              "                                                    [key], {});\n",
              "        if (!dataTable) return;\n",
              "\n",
              "        const docLinkHtml = 'Like what you see? Visit the ' +\n",
              "          '<a target=\"_blank\" href=https://colab.research.google.com/notebooks/data_table.ipynb>data table notebook</a>'\n",
              "          + ' to learn more about interactive tables.';\n",
              "        element.innerHTML = '';\n",
              "        dataTable['output_type'] = 'display_data';\n",
              "        await google.colab.output.renderOutput(dataTable, element);\n",
              "        const docLink = document.createElement('div');\n",
              "        docLink.innerHTML = docLinkHtml;\n",
              "        element.appendChild(docLink);\n",
              "      }\n",
              "    </script>\n",
              "  </div>\n",
              "\n",
              "\n",
              "<div id=\"df-faa79db5-db37-40c2-a1a0-28ef4009657e\">\n",
              "  <button class=\"colab-df-quickchart\" onclick=\"quickchart('df-faa79db5-db37-40c2-a1a0-28ef4009657e')\"\n",
              "            title=\"Suggest charts\"\n",
              "            style=\"display:none;\">\n",
              "\n",
              "<svg xmlns=\"http://www.w3.org/2000/svg\" height=\"24px\"viewBox=\"0 0 24 24\"\n",
              "     width=\"24px\">\n",
              "    <g>\n",
              "        <path d=\"M19 3H5c-1.1 0-2 .9-2 2v14c0 1.1.9 2 2 2h14c1.1 0 2-.9 2-2V5c0-1.1-.9-2-2-2zM9 17H7v-7h2v7zm4 0h-2V7h2v10zm4 0h-2v-4h2v4z\"/>\n",
              "    </g>\n",
              "</svg>\n",
              "  </button>\n",
              "\n",
              "<style>\n",
              "  .colab-df-quickchart {\n",
              "      --bg-color: #E8F0FE;\n",
              "      --fill-color: #1967D2;\n",
              "      --hover-bg-color: #E2EBFA;\n",
              "      --hover-fill-color: #174EA6;\n",
              "      --disabled-fill-color: #AAA;\n",
              "      --disabled-bg-color: #DDD;\n",
              "  }\n",
              "\n",
              "  [theme=dark] .colab-df-quickchart {\n",
              "      --bg-color: #3B4455;\n",
              "      --fill-color: #D2E3FC;\n",
              "      --hover-bg-color: #434B5C;\n",
              "      --hover-fill-color: #FFFFFF;\n",
              "      --disabled-bg-color: #3B4455;\n",
              "      --disabled-fill-color: #666;\n",
              "  }\n",
              "\n",
              "  .colab-df-quickchart {\n",
              "    background-color: var(--bg-color);\n",
              "    border: none;\n",
              "    border-radius: 50%;\n",
              "    cursor: pointer;\n",
              "    display: none;\n",
              "    fill: var(--fill-color);\n",
              "    height: 32px;\n",
              "    padding: 0;\n",
              "    width: 32px;\n",
              "  }\n",
              "\n",
              "  .colab-df-quickchart:hover {\n",
              "    background-color: var(--hover-bg-color);\n",
              "    box-shadow: 0 1px 2px rgba(60, 64, 67, 0.3), 0 1px 3px 1px rgba(60, 64, 67, 0.15);\n",
              "    fill: var(--button-hover-fill-color);\n",
              "  }\n",
              "\n",
              "  .colab-df-quickchart-complete:disabled,\n",
              "  .colab-df-quickchart-complete:disabled:hover {\n",
              "    background-color: var(--disabled-bg-color);\n",
              "    fill: var(--disabled-fill-color);\n",
              "    box-shadow: none;\n",
              "  }\n",
              "\n",
              "  .colab-df-spinner {\n",
              "    border: 2px solid var(--fill-color);\n",
              "    border-color: transparent;\n",
              "    border-bottom-color: var(--fill-color);\n",
              "    animation:\n",
              "      spin 1s steps(1) infinite;\n",
              "  }\n",
              "\n",
              "  @keyframes spin {\n",
              "    0% {\n",
              "      border-color: transparent;\n",
              "      border-bottom-color: var(--fill-color);\n",
              "      border-left-color: var(--fill-color);\n",
              "    }\n",
              "    20% {\n",
              "      border-color: transparent;\n",
              "      border-left-color: var(--fill-color);\n",
              "      border-top-color: var(--fill-color);\n",
              "    }\n",
              "    30% {\n",
              "      border-color: transparent;\n",
              "      border-left-color: var(--fill-color);\n",
              "      border-top-color: var(--fill-color);\n",
              "      border-right-color: var(--fill-color);\n",
              "    }\n",
              "    40% {\n",
              "      border-color: transparent;\n",
              "      border-right-color: var(--fill-color);\n",
              "      border-top-color: var(--fill-color);\n",
              "    }\n",
              "    60% {\n",
              "      border-color: transparent;\n",
              "      border-right-color: var(--fill-color);\n",
              "    }\n",
              "    80% {\n",
              "      border-color: transparent;\n",
              "      border-right-color: var(--fill-color);\n",
              "      border-bottom-color: var(--fill-color);\n",
              "    }\n",
              "    90% {\n",
              "      border-color: transparent;\n",
              "      border-bottom-color: var(--fill-color);\n",
              "    }\n",
              "  }\n",
              "</style>\n",
              "\n",
              "  <script>\n",
              "    async function quickchart(key) {\n",
              "      const quickchartButtonEl =\n",
              "        document.querySelector('#' + key + ' button');\n",
              "      quickchartButtonEl.disabled = true;  // To prevent multiple clicks.\n",
              "      quickchartButtonEl.classList.add('colab-df-spinner');\n",
              "      try {\n",
              "        const charts = await google.colab.kernel.invokeFunction(\n",
              "            'suggestCharts', [key], {});\n",
              "      } catch (error) {\n",
              "        console.error('Error during call to suggestCharts:', error);\n",
              "      }\n",
              "      quickchartButtonEl.classList.remove('colab-df-spinner');\n",
              "      quickchartButtonEl.classList.add('colab-df-quickchart-complete');\n",
              "    }\n",
              "    (() => {\n",
              "      let quickchartButtonEl =\n",
              "        document.querySelector('#df-faa79db5-db37-40c2-a1a0-28ef4009657e button');\n",
              "      quickchartButtonEl.style.display =\n",
              "        google.colab.kernel.accessAllowed ? 'block' : 'none';\n",
              "    })();\n",
              "  </script>\n",
              "</div>\n",
              "    </div>\n",
              "  </div>\n"
            ],
            "application/vnd.google.colaboratory.intrinsic+json": {
              "type": "dataframe",
              "variable_name": "after_acc_table",
              "summary": "{\n  \"name\": \"after_acc_table\",\n  \"rows\": 100,\n  \"fields\": [\n    {\n      \"column\": \"sample\",\n      \"properties\": {\n        \"dtype\": \"string\",\n        \"num_unique_values\": 100,\n        \"samples\": [\n          \"sample 83\",\n          \"sample 53\",\n          \"sample 70\"\n        ],\n        \"semantic_type\": \"\",\n        \"description\": \"\"\n      }\n    },\n    {\n      \"column\": \"local_ind_model\",\n      \"properties\": {\n        \"dtype\": \"number\",\n        \"std\": 0.042318099858999696,\n        \"min\": 0.6666666666666666,\n        \"max\": 0.9,\n        \"num_unique_values\": 20,\n        \"samples\": [\n          0.8444444444444444,\n          0.9,\n          0.8888888888888888\n        ],\n        \"semantic_type\": \"\",\n        \"description\": \"\"\n      }\n    },\n    {\n      \"column\": \"merged_main_model\",\n      \"properties\": {\n        \"dtype\": \"number\",\n        \"std\": 0.03450729950729437,\n        \"min\": 0.7777777777777778,\n        \"max\": 0.9444444444444444,\n        \"num_unique_values\": 17,\n        \"samples\": [\n          0.8888888888888888,\n          0.8333333333333334,\n          0.9\n        ],\n        \"semantic_type\": \"\",\n        \"description\": \"\"\n      }\n    }\n  ]\n}"
            }
          },
          "metadata": {},
          "execution_count": 195
        }
      ],
      "source": [
        "print(\"Federated main model vs individual local models after FedAvg first iteration\")\n",
        "after_acc_table.head()"
      ]
    },
    {
      "cell_type": "markdown",
      "metadata": {
        "id": "_WnrMP0bb-rO"
      },
      "source": [
        "**Federated main model vs centralized model before 1st iteration (on all test data)**  \n",
        "Please be aware that the centralized model gets approximately %98 accuracy on all test data."
      ]
    },
    {
      "cell_type": "code",
      "execution_count": 196,
      "metadata": {
        "id": "TlBr3Dfpb-rO",
        "outputId": "411f69d7-694f-4d2f-a584-11801c6dc208",
        "colab": {
          "base_uri": "https://localhost:8080/"
        }
      },
      "outputs": [
        {
          "output_type": "stream",
          "name": "stdout",
          "text": [
            "Before 1st iteration main model accuracy on all test data:  0.0969\n",
            "After 1st iteration main model accuracy on all test data:  0.8551\n",
            "Centralized model accuracy on all test data:  0.9805\n"
          ]
        }
      ],
      "source": [
        "print(\"Before 1st iteration main model accuracy on all test data: {:7.4f}\".format(before_test_accuracy))\n",
        "print(\"After 1st iteration main model accuracy on all test data: {:7.4f}\".format(after_test_accuracy))\n",
        "print(\"Centralized model accuracy on all test data: {:7.4f}\".format(central_test_accuracy))"
      ]
    },
    {
      "cell_type": "markdown",
      "metadata": {
        "id": "fFI0ny5Qb-rP"
      },
      "source": [
        "This is a single iteration, we can send the weights of the main model back to the nodes and repeat the above steps.\n",
        "Now let's check how the performance of the main model improves when we repeat the iteration 10 more times."
      ]
    },
    {
      "cell_type": "code",
      "execution_count": 197,
      "metadata": {
        "id": "qk-3PpFlb-rP",
        "outputId": "5a316e73-4574-49b5-f5c7-47a0384b5989",
        "colab": {
          "base_uri": "https://localhost:8080/"
        }
      },
      "outputs": [
        {
          "output_type": "stream",
          "name": "stdout",
          "text": [
            "Iteration 2 : main_model accuracy on all test data:  0.8975\n",
            "Iteration 3 : main_model accuracy on all test data:  0.9087\n",
            "Iteration 4 : main_model accuracy on all test data:  0.9150\n",
            "Iteration 5 : main_model accuracy on all test data:  0.9207\n",
            "Iteration 6 : main_model accuracy on all test data:  0.9263\n",
            "Iteration 7 : main_model accuracy on all test data:  0.9315\n",
            "Iteration 8 : main_model accuracy on all test data:  0.9355\n",
            "Iteration 9 : main_model accuracy on all test data:  0.9382\n",
            "Iteration 10 : main_model accuracy on all test data:  0.9407\n",
            "Iteration 11 : main_model accuracy on all test data:  0.9428\n"
          ]
        }
      ],
      "source": [
        "for i in range(10):\n",
        "    model_dict=send_main_model_to_nodes_and_update_model_dict(main_model, model_dict, number_of_samples)\n",
        "    start_train_end_node_process_without_print(number_of_samples)\n",
        "    main_model= set_averaged_weights_as_main_model_weights_and_update_main_model(main_model,model_dict, number_of_samples)\n",
        "    test_loss, test_accuracy = validation(main_model, test_dl, main_criterion)\n",
        "    print(\"Iteration\", str(i+2), \": main_model accuracy on all test data: {:7.4f}\".format(test_accuracy))"
      ]
    },
    {
      "cell_type": "markdown",
      "metadata": {
        "id": "s1GldpSEb-rP"
      },
      "source": [
        "The accuracy of the centralized model was calculated as approximately 98%. The accuracy of the main model obtained by FedAvg method started from 85% and improved to 94%. In this case, we can say that although the main model obtained by FedAvg method was trained without seeing the data, its performance cannot be underestimated."
      ]
    }
  ],
  "metadata": {
    "kernelspec": {
      "display_name": "Python 3",
      "language": "python",
      "name": "python3"
    },
    "language_info": {
      "codemirror_mode": {
        "name": "ipython",
        "version": 3
      },
      "file_extension": ".py",
      "mimetype": "text/x-python",
      "name": "python",
      "nbconvert_exporter": "python",
      "pygments_lexer": "ipython3",
      "version": "3.7.7"
    },
    "colab": {
      "provenance": [],
      "include_colab_link": true
    }
  },
  "nbformat": 4,
  "nbformat_minor": 0
}