{
  "nbformat": 4,
  "nbformat_minor": 0,
  "metadata": {
    "colab": {
      "provenance": [],
      "authorship_tag": "ABX9TyP+Y1LaNLo/+1z9XEMALCNw",
      "include_colab_link": true
    },
    "kernelspec": {
      "name": "python3",
      "display_name": "Python 3"
    },
    "language_info": {
      "name": "python"
    }
  },
  "cells": [
    {
      "cell_type": "markdown",
      "metadata": {
        "id": "view-in-github",
        "colab_type": "text"
      },
      "source": [
        "<a href=\"https://colab.research.google.com/github/rmartimarly/teaching_misc/blob/main/FROC_example.ipynb\" target=\"_parent\"><img src=\"https://colab.research.google.com/assets/colab-badge.svg\" alt=\"Open In Colab\"/></a>"
      ]
    },
    {
      "cell_type": "code",
      "execution_count": null,
      "metadata": {
        "id": "1Y3ys0eXGTgc"
      },
      "outputs": [],
      "source": [
        "import numpy as np\n",
        "import matplotlib.pyplot as plt\n",
        "from collections import defaultdict\n",
        "\n",
        "def compute_iou(box1, box2):\n",
        "    \"\"\"Compute IoU between two bounding boxes.\"\"\"\n",
        "    x1, y1, x2, y2 = box1\n",
        "    x1_p, y1_p, x2_p, y2_p = box2\n",
        "\n",
        "    xi1, yi1 = max(x1, x1_p), max(y1, y1_p)\n",
        "    xi2, yi2 = min(x2, x2_p), min(y2, y2_p)\n",
        "    inter_area = max(0, xi2 - xi1) * max(0, yi2 - yi1)\n",
        "\n",
        "    box1_area = (x2 - x1) * (y2 - y1)\n",
        "    box2_area = (x2_p - x1_p) * (y2_p - y1_p)\n",
        "    union_area = box1_area + box2_area - inter_area\n",
        "\n",
        "    return inter_area / union_area if union_area > 0 else 0\n",
        "\n",
        "def match_predictions_to_gt(gt_boxes, pred_boxes, iou_threshold=0.5):\n",
        "    \"\"\"Match predictions to ground truth boxes based on IoU.\"\"\"\n",
        "    matched_gt = set()\n",
        "    tp = 0\n",
        "    for pred in pred_boxes:\n",
        "        for i, gt in enumerate(gt_boxes):\n",
        "            if i in matched_gt:\n",
        "                continue\n",
        "            if compute_iou(pred, gt) >= iou_threshold:\n",
        "                matched_gt.add(i)\n",
        "                tp += 1\n",
        "                break\n",
        "\n",
        "    return tp, len(pred_boxes) - tp\n",
        "\n",
        "def compute_froc_curve(gt_list, pred_list, iou_threshold=0.5):\n",
        "    \"\"\"Compute FROC curve given lists of ground truth and predicted bounding boxes.\"\"\"\n",
        "    fp_rates = []\n",
        "    sensitivities = []\n",
        "\n",
        "    total_lesions = sum(len(gt) for gt in gt_list)\n",
        "\n",
        "    for num_fp in range(0, 10):  # Iterate over increasing FP thresholds\n",
        "        tp_total = 0\n",
        "        fp_total = 0\n",
        "\n",
        "        for gt_boxes, pred_boxes in zip(gt_list, pred_list):\n",
        "            tp, fp = match_predictions_to_gt(gt_boxes, pred_boxes[:num_fp + 1], iou_threshold)\n",
        "            tp_total += tp\n",
        "            fp_total += fp\n",
        "\n",
        "        sensitivity = tp_total / total_lesions if total_lesions > 0 else 0\n",
        "        avg_fp = fp_total / len(gt_list)\n",
        "\n",
        "        fp_rates.append(avg_fp)\n",
        "        sensitivities.append(sensitivity)\n",
        "\n",
        "    return fp_rates, sensitivities\n",
        "\n",
        "def plot_froc(fp_rates, sensitivities):\n",
        "    \"\"\"Plot the FROC curve.\"\"\"\n",
        "    plt.figure(figsize=(8, 6))\n",
        "    plt.plot(fp_rates, sensitivities, marker='o', linestyle='-')\n",
        "    plt.xlabel('False Positives per Image')\n",
        "    plt.ylabel('Sensitivity')\n",
        "    plt.title('FROC Curve')\n",
        "    plt.grid()\n",
        "    plt.show()\n",
        "\n",
        "# Example Usage\n",
        "gt_boxes = [[(30, 30, 60, 60)], [(40, 40, 70, 70)]]  # List of ground truth boxes for multiple images\n",
        "pred_boxes = [[(32, 32, 62, 62), (80, 80, 110, 110)], [(42, 42, 72, 72)]]  # Predictions\n",
        "\n",
        "fp_rates, sensitivities = compute_froc_curve(gt_boxes, pred_boxes)\n",
        "plot_froc(fp_rates, sensitivities)\n"
      ]
    }
  ]
}