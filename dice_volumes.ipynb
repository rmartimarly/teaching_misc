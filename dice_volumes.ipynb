{
 "cells": [
  {
   "cell_type": "markdown",
   "metadata": {},
   "source": [
    "Compute DICE score between labels and segmentation volumes"
   ]
  },
  {
   "cell_type": "code",
   "execution_count": 75,
   "metadata": {},
   "outputs": [],
   "source": [
    "import SimpleITK as sitk\n",
    "import pandas as pd\n",
    "import numpy as np\n",
    "from enum import Enum\n",
    "import glob"
   ]
  },
  {
   "cell_type": "code",
   "execution_count": 66,
   "metadata": {},
   "outputs": [],
   "source": [
    "# Use enumerations to represent the various evaluation measures\n",
    "class OverlapMeasures(Enum):\n",
    "    jaccard, dice, volume_similarity, false_negative, false_positive, h_d = range(6)"
   ]
  },
  {
   "cell_type": "code",
   "execution_count": 171,
   "metadata": {},
   "outputs": [],
   "source": [
    "gt_folder = '/home/robert/data/MRI_knee/GT'\n",
    "seg_folder = '/home/robert/data/MRI_knee/grup_montero'\n",
    "# seg_folder = '/home/robert/data/MRI_knee/grup_Penas_lopez'\n",
    "# gt_folder = '/home/robert/data/MRI_knee/GT_sm'\n",
    "# seg_folder = '/home/robert/data/MRI_knee/grup_barragan_molas'\n",
    "# seg_folder = '/home/robert/data/MRI_knee/'\n",
    "label_type = 3\n"
   ]
  },
  {
   "cell_type": "code",
   "execution_count": 172,
   "metadata": {},
   "outputs": [
    {
     "name": "stdout",
     "output_type": "stream",
     "text": [
      "6\n",
      "/home/robert/data/MRI_knee/GT/labels-080.mhd\n",
      "/home/robert/data/MRI_knee/grup_montero/image-080.nii\n",
      "Pixel ID\n",
      "8-bit signed integer 8-bit signed integer\n",
      "Origin\n",
      "(13.2813, 45.3125, 46.2836) (0.0, 0.0, 0.0)\n",
      "Spacing\n",
      "(0.390625, 0.390625, 1.0)   (0.390625, 0.390625, 1.0)\n",
      "Size\n",
      "(267, 332, 104) (267, 332, 104)\n",
      "/home/robert/data/MRI_knee/GT/labels-081.mhd\n",
      "/home/robert/data/MRI_knee/grup_montero/image-081.nii\n",
      "Pixel ID\n",
      "8-bit signed integer 8-bit signed integer\n",
      "Origin\n",
      "(42.1848, 33.9822, -4.65878) (0.0, 0.0, 0.0)\n",
      "Spacing\n",
      "(0.3906, 0.3906, 1.0)   (0.3906, 0.3906, 1.0)\n",
      "Size\n",
      "(277, 339, 116) (277, 339, 116)\n",
      "/home/robert/data/MRI_knee/GT/labels-082.mhd\n",
      "/home/robert/data/MRI_knee/grup_montero/image-082.nii\n",
      "Pixel ID\n",
      "8-bit signed integer 8-bit signed integer\n",
      "Origin\n",
      "(33.201, 13.671, -109.003) (0.0, 0.0, 0.0)\n",
      "Spacing\n",
      "(0.3906, 0.3906, 1.0)   (0.3906, 0.3906, 1.0)\n",
      "Size\n",
      "(295, 437, 120) (295, 437, 120)\n",
      "/home/robert/data/MRI_knee/GT/labels-083.mhd\n",
      "/home/robert/data/MRI_knee/grup_montero/image-083.nii\n",
      "Pixel ID\n",
      "8-bit signed integer 8-bit signed integer\n",
      "Origin\n",
      "(32.0292, 30.0762, 0.922962) (0.0, 0.0, 0.0)\n",
      "Spacing\n",
      "(0.3906, 0.3906, 1.0)   (0.3906, 0.3906, 1.0)\n",
      "Size\n",
      "(290, 344, 104) (290, 344, 104)\n",
      "/home/robert/data/MRI_knee/GT/labels-084.mhd\n",
      "/home/robert/data/MRI_knee/grup_montero/image-084.nii\n",
      "Pixel ID\n",
      "8-bit signed integer 8-bit signed integer\n",
      "Origin\n",
      "(41.013, 25.389, 0.707317) (0.0, 0.0, 0.0)\n",
      "Spacing\n",
      "(0.3906, 0.3906, 1.0)   (0.3906, 0.3906, 1.0)\n",
      "Size\n",
      "(290, 362, 104) (290, 362, 104)\n",
      "/home/robert/data/MRI_knee/GT/labels-085.mhd\n",
      "/home/robert/data/MRI_knee/grup_montero/image-085.nii\n",
      "Pixel ID\n",
      "8-bit signed integer 8-bit signed integer\n",
      "Origin\n",
      "(39.4506, 38.2788, -119.537) (0.0, 0.0, 0.0)\n",
      "Spacing\n",
      "(0.3906, 0.3906, 1.0)   (0.3906, 0.3906, 1.0)\n",
      "Size\n",
      "(310, 375, 120) (310, 375, 120)\n"
     ]
    }
   ],
   "source": [
    "gt_fn = sorted(glob.glob(gt_folder+'/*mhd'))\n",
    "seg_fn = sorted(glob.glob(seg_folder+'/*nii'))\n",
    "\n",
    "overlap_results = np.zeros((len(gt_fn),len(OverlapMeasures.__members__.items())))  \n",
    "print(len(overlap_results))\n",
    "\n",
    "overlap_measures_filter = sitk.LabelOverlapMeasuresImageFilter()\n",
    "hausdorff_distance_filter = sitk.HausdorffDistanceImageFilter()\n",
    "\n",
    "overlap_results = np.zeros((len(gt_fn),len(OverlapMeasures.__members__.items())))  \n",
    "\n",
    "i = 0\n",
    "for gt,pred in zip(gt_fn,seg_fn):\n",
    "    print(gt)\n",
    "    print (pred)\n",
    "#     ref_im = sitk.GetArrayFromImage(sitk.ReadImage(gt))\n",
    "#     seg_im = sitk.GetArrayFromImage(sitk.ReadImage(pred))\n",
    "    ref_im = sitk.ReadImage(gt, sitk.sitkInt8)\n",
    "    seg_im = sitk.ReadImage(pred,sitk.sitkInt8)\n",
    "    \n",
    "    \n",
    "     # set same origins & spacings\n",
    "    ref_org = ref_im.GetOrigin()   \n",
    "    seg_org = seg_im.GetOrigin()\n",
    "    ref_sp = ref_im.GetSpacing()\n",
    "    seg_sp = seg_im.GetSpacing()\n",
    "\n",
    "    seg_im.SetSpacing(ref_sp)\n",
    "    seg_im.SetOrigin(ref_org)\n",
    "\n",
    "    print(\"Pixel ID\")\n",
    "    print(ref_im.GetPixelIDTypeAsString(), seg_im.GetPixelIDTypeAsString())\n",
    "    print(\"Origin\")\n",
    "    print(ref_org, seg_org)    \n",
    "    print(\"Spacing\")\n",
    "    print(ref_sp,\" \",ref_sp)\n",
    "    print(\"Size\")\n",
    "    print(ref_im.GetSize(), seg_im.GetSize())\n",
    "\n",
    "    # Overlap measures\n",
    "    overlap_measures_filter.Execute(ref_im, seg_im)\n",
    "    overlap_results[i,OverlapMeasures.jaccard.value] = overlap_measures_filter.GetJaccardCoefficient(label_type)\n",
    "    overlap_results[i,OverlapMeasures.dice.value] = overlap_measures_filter.GetDiceCoefficient(label_type)\n",
    "    overlap_results[i,OverlapMeasures.volume_similarity.value] = overlap_measures_filter.GetVolumeSimilarity(label_type)\n",
    "    overlap_results[i,OverlapMeasures.false_negative.value] = overlap_measures_filter.GetFalseNegativeError(label_type)\n",
    "    overlap_results[i,OverlapMeasures.false_positive.value] = overlap_measures_filter.GetFalsePositiveError(label_type)\n",
    "    # Hausdorff distance\n",
    "    hausdorff_distance_filter.Execute(ref_im, seg_im)\n",
    "    overlap_results[i,OverlapMeasures.h_d.value] = hausdorff_distance_filter.GetHausdorffDistance()\n",
    "#     print(hausdorff_distance_filter.GetHausdorffDistance())\n",
    "    i +=1\n",
    "\n",
    "\n",
    "\n",
    "    "
   ]
  },
  {
   "cell_type": "code",
   "execution_count": 173,
   "metadata": {},
   "outputs": [
    {
     "name": "stdout",
     "output_type": "stream",
     "text": [
      "    Jaccard      Dice  Vol sim         FN        FP         HD\n",
      "0  0.559486  0.717526  0.352490  0.128957  0.389986  16.229585\n",
      "1  0.682048  0.810973  0.268916  0.063046  0.285145   9.000000\n",
      "2  0.585378  0.738471  0.443179  0.051309  0.395483  18.540091\n",
      "3  0.497047  0.664037  0.386571  0.176863  0.443523  13.781926\n",
      "4  0.666656  0.799993  0.210367  0.105970  0.276145  15.372336\n",
      "5  0.496539  0.663583  0.585597  0.061678  0.486708  20.208933\n"
     ]
    }
   ],
   "source": [
    "df = pd.DataFrame(overlap_results, \n",
    "                 columns =['Jaccard', 'Dice', 'Vol sim ', 'FN', 'FP', 'HD'])\n",
    "df.to_csv(\"grup_penas_lopez.csv\")\n",
    "print(df)\n"
   ]
  }
 ],
 "metadata": {
  "kernelspec": {
   "display_name": "Python [conda env:fast2]",
   "language": "python",
   "name": "conda-env-fast2-py"
  },
  "language_info": {
   "codemirror_mode": {
    "name": "ipython",
    "version": 3
   },
   "file_extension": ".py",
   "mimetype": "text/x-python",
   "name": "python",
   "nbconvert_exporter": "python",
   "pygments_lexer": "ipython3",
   "version": "3.8.2"
  }
 },
 "nbformat": 4,
 "nbformat_minor": 2
}
