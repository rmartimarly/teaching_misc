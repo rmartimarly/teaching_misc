{
  "nbformat": 4,
  "nbformat_minor": 0,
  "metadata": {
    "colab": {
      "provenance": [],
      "authorship_tag": "ABX9TyPYOYDoC5sJ2gmJT93fahHx",
      "include_colab_link": true
    },
    "kernelspec": {
      "name": "python3",
      "display_name": "Python 3"
    },
    "language_info": {
      "name": "python"
    }
  },
  "cells": [
    {
      "cell_type": "markdown",
      "metadata": {
        "id": "view-in-github",
        "colab_type": "text"
      },
      "source": [
        "<a href=\"https://colab.research.google.com/github/rmartimarly/teaching_misc/blob/main/example_DICE.ipynb\" target=\"_parent\"><img src=\"https://colab.research.google.com/assets/colab-badge.svg\" alt=\"Open In Colab\"/></a>"
      ]
    },
    {
      "cell_type": "code",
      "execution_count": null,
      "metadata": {
        "id": "zeSdq_xvEcug"
      },
      "outputs": [],
      "source": [
        "import numpy as np\n",
        "\n",
        "def dice_score(y_true, y_pred, smooth=1e-6):\n",
        "    \"\"\"\n",
        "    Compute the Dice score between two binary masks.\n",
        "\n",
        "    Parameters:\n",
        "    y_true (numpy array): Ground truth binary mask.\n",
        "    y_pred (numpy array): Predicted binary mask.\n",
        "    smooth (float): Smoothing factor to prevent division by zero.\n",
        "\n",
        "    Returns:\n",
        "    float: Dice coefficient.\n",
        "    \"\"\"\n",
        "    y_true = y_true.flatten()\n",
        "    y_pred = y_pred.flatten()\n",
        "\n",
        "    intersection = np.sum(y_true * y_pred)\n",
        "    return (2. * intersection + smooth) / (np.sum(y_true) + np.sum(y_pred) + smooth)\n",
        "\n",
        "# Example usage\n",
        "y_true = np.array([[1, 1, 0], [0, 1, 1], [0, 0, 1]])\n",
        "y_pred = np.array([[1, 0, 0], [0, 1, 1], [0, 1, 1]])\n",
        "\n",
        "dice = dice_score(y_true, y_pred)\n",
        "print(f\"Dice Score: {dice:.4f}\")\n"
      ]
    }
  ]
}